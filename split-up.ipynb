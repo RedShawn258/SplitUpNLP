{
  "nbformat": 4,
  "nbformat_minor": 0,
  "metadata": {
    "colab": {
      "name": "ezzlit intro.ipynb",
      "provenance": []
    },
    "kernelspec": {
      "name": "python3",
      "display_name": "Python 3"
    },
    "language_info": {
      "name": "python"
    },
    "gpuClass": "standard",
    "accelerator": "GPU"
  },
  "cells": [
    {
      "cell_type": "code",
      "execution_count": null,
      "metadata": {
        "colab": {
          "base_uri": "https://localhost:8080/"
        },
        "id": "Q2XYqaSMRU9G",
        "outputId": "2b344309-5efa-4490-ab23-b17d0f638faf"
      },
      "outputs": [
        {
          "output_type": "stream",
          "name": "stdout",
          "text": [
            "Wed Jun 29 09:04:34 2022       \n",
            "+-----------------------------------------------------------------------------+\n",
            "| NVIDIA-SMI 460.32.03    Driver Version: 460.32.03    CUDA Version: 11.2     |\n",
            "|-------------------------------+----------------------+----------------------+\n",
            "| GPU  Name        Persistence-M| Bus-Id        Disp.A | Volatile Uncorr. ECC |\n",
            "| Fan  Temp  Perf  Pwr:Usage/Cap|         Memory-Usage | GPU-Util  Compute M. |\n",
            "|                               |                      |               MIG M. |\n",
            "|===============================+======================+======================|\n",
            "|   0  Tesla P100-PCIE...  Off  | 00000000:00:04.0 Off |                    0 |\n",
            "| N/A   34C    P0    25W / 250W |      0MiB / 16280MiB |      0%      Default |\n",
            "|                               |                      |                  N/A |\n",
            "+-------------------------------+----------------------+----------------------+\n",
            "                                                                               \n",
            "+-----------------------------------------------------------------------------+\n",
            "| Processes:                                                                  |\n",
            "|  GPU   GI   CI        PID   Type   Process name                  GPU Memory |\n",
            "|        ID   ID                                                   Usage      |\n",
            "|=============================================================================|\n",
            "|  No running processes found                                                 |\n",
            "+-----------------------------------------------------------------------------+\n"
          ]
        }
      ],
      "source": [
        "!nvidia-smi"
      ]
    },
    {
      "cell_type": "code",
      "source": [
        "!nvidia-smi -L"
      ],
      "metadata": {
        "colab": {
          "base_uri": "https://localhost:8080/"
        },
        "id": "qrhGgVLxR-yt",
        "outputId": "950433ce-950c-4d02-e51f-f954f6087926"
      },
      "execution_count": null,
      "outputs": [
        {
          "output_type": "stream",
          "name": "stdout",
          "text": [
            "GPU 0: Tesla P100-PCIE-16GB (UUID: GPU-4f91e494-b31e-1fc3-0206-19f33bdeb100)\n"
          ]
        }
      ]
    },
    {
      "cell_type": "code",
      "source": [
        "!git clone https://github.com/Franck-Dernoncourt/pubmed-rct.git"
      ],
      "metadata": {
        "colab": {
          "base_uri": "https://localhost:8080/"
        },
        "id": "uo_EWIYuSqoV",
        "outputId": "b820cb56-50ab-4385-83f4-7046cec25afb"
      },
      "execution_count": null,
      "outputs": [
        {
          "output_type": "stream",
          "name": "stdout",
          "text": [
            "Cloning into 'pubmed-rct'...\n",
            "remote: Enumerating objects: 33, done.\u001b[K\n",
            "remote: Counting objects: 100% (8/8), done.\u001b[K\n",
            "remote: Compressing objects: 100% (3/3), done.\u001b[K\n",
            "remote: Total 33 (delta 5), reused 5 (delta 5), pack-reused 25\u001b[K\n",
            "Unpacking objects: 100% (33/33), done.\n"
          ]
        }
      ]
    },
    {
      "cell_type": "code",
      "source": [
        "!ls pubmed-rct"
      ],
      "metadata": {
        "colab": {
          "base_uri": "https://localhost:8080/"
        },
        "id": "-QwcPbb7TFmx",
        "outputId": "6d846fee-8fcc-477f-b10d-b9bbc5c47e3c"
      },
      "execution_count": null,
      "outputs": [
        {
          "output_type": "stream",
          "name": "stdout",
          "text": [
            "PubMed_200k_RCT\n",
            "PubMed_200k_RCT_numbers_replaced_with_at_sign\n",
            "PubMed_20k_RCT\n",
            "PubMed_20k_RCT_numbers_replaced_with_at_sign\n",
            "README.md\n"
          ]
        }
      ]
    },
    {
      "cell_type": "code",
      "source": [
        "!ls pubmed-rct/PubMed_20k_RCT_numbers_replaced_with_at_sign/"
      ],
      "metadata": {
        "id": "fq6PaXXcTiIq",
        "colab": {
          "base_uri": "https://localhost:8080/"
        },
        "outputId": "ec16c9f7-b615-4b99-f8e0-dc2fd3f8a51c"
      },
      "execution_count": null,
      "outputs": [
        {
          "output_type": "stream",
          "name": "stdout",
          "text": [
            "dev.txt  test.txt  train.txt\n"
          ]
        }
      ]
    },
    {
      "cell_type": "code",
      "source": [
        "data_dir = \"pubmed-rct/PubMed_20k_RCT_numbers_replaced_with_at_sign/\""
      ],
      "metadata": {
        "id": "cbz0QG5kgkGv"
      },
      "execution_count": null,
      "outputs": []
    },
    {
      "cell_type": "code",
      "source": [
        "def get_lines(filename):\n",
        "  with open(filename, \"r\") as f:\n",
        "    return f.readlines()"
      ],
      "metadata": {
        "id": "Eg2zR6wahDck"
      },
      "execution_count": null,
      "outputs": []
    },
    {
      "cell_type": "code",
      "source": [
        "train_lines = get_lines(data_dir+\"train.txt\")\n",
        "for i in train_lines[:20]:\n",
        "  print(i, end=\"\\n\")\n"
      ],
      "metadata": {
        "colab": {
          "base_uri": "https://localhost:8080/"
        },
        "id": "9O3OkGOthV-V",
        "outputId": "a8ada3fb-8229-4bbc-bf2c-b32ddfe66215"
      },
      "execution_count": null,
      "outputs": [
        {
          "output_type": "stream",
          "name": "stdout",
          "text": [
            "###24293578\n",
            "\n",
            "OBJECTIVE\tTo investigate the efficacy of @ weeks of daily low-dose oral prednisolone in improving pain , mobility , and systemic low-grade inflammation in the short term and whether the effect would be sustained at @ weeks in older adults with moderate to severe knee osteoarthritis ( OA ) .\n",
            "\n",
            "METHODS\tA total of @ patients with primary knee OA were randomized @:@ ; @ received @ mg/day of prednisolone and @ received placebo for @ weeks .\n",
            "\n",
            "METHODS\tOutcome measures included pain reduction and improvement in function scores and systemic inflammation markers .\n",
            "\n",
            "METHODS\tPain was assessed using the visual analog pain scale ( @-@ mm ) .\n",
            "\n",
            "METHODS\tSecondary outcome measures included the Western Ontario and McMaster Universities Osteoarthritis Index scores , patient global assessment ( PGA ) of the severity of knee OA , and @-min walk distance ( @MWD ) .\n",
            "\n",
            "METHODS\tSerum levels of interleukin @ ( IL-@ ) , IL-@ , tumor necrosis factor ( TNF ) - , and high-sensitivity C-reactive protein ( hsCRP ) were measured .\n",
            "\n",
            "RESULTS\tThere was a clinically relevant reduction in the intervention group compared to the placebo group for knee pain , physical function , PGA , and @MWD at @ weeks .\n",
            "\n",
            "RESULTS\tThe mean difference between treatment arms ( @ % CI ) was @ ( @-@ @ ) , p < @ ; @ ( @-@ @ ) , p < @ ; @ ( @-@ @ ) , p < @ ; and @ ( @-@ @ ) , p < @ , respectively .\n",
            "\n",
            "RESULTS\tFurther , there was a clinically relevant reduction in the serum levels of IL-@ , IL-@ , TNF - , and hsCRP at @ weeks in the intervention group when compared to the placebo group .\n",
            "\n",
            "RESULTS\tThese differences remained significant at @ weeks .\n",
            "\n",
            "RESULTS\tThe Outcome Measures in Rheumatology Clinical Trials-Osteoarthritis Research Society International responder rate was @ % in the intervention group and @ % in the placebo group ( p < @ ) .\n",
            "\n",
            "CONCLUSIONS\tLow-dose oral prednisolone had both a short-term and a longer sustained effect resulting in less knee pain , better physical function , and attenuation of systemic inflammation in older patients with knee OA ( ClinicalTrials.gov identifier NCT@ ) .\n",
            "\n",
            "\n",
            "\n",
            "###24854809\n",
            "\n",
            "BACKGROUND\tEmotional eating is associated with overeating and the development of obesity .\n",
            "\n",
            "BACKGROUND\tYet , empirical evidence for individual ( trait ) differences in emotional eating and cognitive mechanisms that contribute to eating during sad mood remain equivocal .\n",
            "\n",
            "OBJECTIVE\tThe aim of this study was to test if attention bias for food moderates the effect of self-reported emotional eating during sad mood ( vs neutral mood ) on actual food intake .\n",
            "\n",
            "OBJECTIVE\tIt was expected that emotional eating is predictive of elevated attention for food and higher food intake after an experimentally induced sad mood and that attentional maintenance on food predicts food intake during a sad versus a neutral mood .\n",
            "\n",
            "METHODS\tParticipants ( N = @ ) were randomly assigned to one of the two experimental mood induction conditions ( sad/neutral ) .\n",
            "\n"
          ]
        }
      ]
    },
    {
      "cell_type": "code",
      "source": [
        "train_lines[:20]"
      ],
      "metadata": {
        "colab": {
          "base_uri": "https://localhost:8080/"
        },
        "id": "F_BkP1W_noCU",
        "outputId": "d657d106-7379-4456-f34f-0918e599a701"
      },
      "execution_count": null,
      "outputs": [
        {
          "output_type": "execute_result",
          "data": {
            "text/plain": [
              "['###24293578\\n',\n",
              " 'OBJECTIVE\\tTo investigate the efficacy of @ weeks of daily low-dose oral prednisolone in improving pain , mobility , and systemic low-grade inflammation in the short term and whether the effect would be sustained at @ weeks in older adults with moderate to severe knee osteoarthritis ( OA ) .\\n',\n",
              " 'METHODS\\tA total of @ patients with primary knee OA were randomized @:@ ; @ received @ mg/day of prednisolone and @ received placebo for @ weeks .\\n',\n",
              " 'METHODS\\tOutcome measures included pain reduction and improvement in function scores and systemic inflammation markers .\\n',\n",
              " 'METHODS\\tPain was assessed using the visual analog pain scale ( @-@ mm ) .\\n',\n",
              " 'METHODS\\tSecondary outcome measures included the Western Ontario and McMaster Universities Osteoarthritis Index scores , patient global assessment ( PGA ) of the severity of knee OA , and @-min walk distance ( @MWD ) .\\n',\n",
              " 'METHODS\\tSerum levels of interleukin @ ( IL-@ ) , IL-@ , tumor necrosis factor ( TNF ) - , and high-sensitivity C-reactive protein ( hsCRP ) were measured .\\n',\n",
              " 'RESULTS\\tThere was a clinically relevant reduction in the intervention group compared to the placebo group for knee pain , physical function , PGA , and @MWD at @ weeks .\\n',\n",
              " 'RESULTS\\tThe mean difference between treatment arms ( @ % CI ) was @ ( @-@ @ ) , p < @ ; @ ( @-@ @ ) , p < @ ; @ ( @-@ @ ) , p < @ ; and @ ( @-@ @ ) , p < @ , respectively .\\n',\n",
              " 'RESULTS\\tFurther , there was a clinically relevant reduction in the serum levels of IL-@ , IL-@ , TNF - , and hsCRP at @ weeks in the intervention group when compared to the placebo group .\\n',\n",
              " 'RESULTS\\tThese differences remained significant at @ weeks .\\n',\n",
              " 'RESULTS\\tThe Outcome Measures in Rheumatology Clinical Trials-Osteoarthritis Research Society International responder rate was @ % in the intervention group and @ % in the placebo group ( p < @ ) .\\n',\n",
              " 'CONCLUSIONS\\tLow-dose oral prednisolone had both a short-term and a longer sustained effect resulting in less knee pain , better physical function , and attenuation of systemic inflammation in older patients with knee OA ( ClinicalTrials.gov identifier NCT@ ) .\\n',\n",
              " '\\n',\n",
              " '###24854809\\n',\n",
              " 'BACKGROUND\\tEmotional eating is associated with overeating and the development of obesity .\\n',\n",
              " 'BACKGROUND\\tYet , empirical evidence for individual ( trait ) differences in emotional eating and cognitive mechanisms that contribute to eating during sad mood remain equivocal .\\n',\n",
              " 'OBJECTIVE\\tThe aim of this study was to test if attention bias for food moderates the effect of self-reported emotional eating during sad mood ( vs neutral mood ) on actual food intake .\\n',\n",
              " 'OBJECTIVE\\tIt was expected that emotional eating is predictive of elevated attention for food and higher food intake after an experimentally induced sad mood and that attentional maintenance on food predicts food intake during a sad versus a neutral mood .\\n',\n",
              " 'METHODS\\tParticipants ( N = @ ) were randomly assigned to one of the two experimental mood induction conditions ( sad/neutral ) .\\n']"
            ]
          },
          "metadata": {},
          "execution_count": 9
        }
      ]
    },
    {
      "cell_type": "code",
      "source": [
        "def preprocess_text_with_line_numbers(filename):\n",
        "  input_lines = get_lines(filename)\n",
        "  abstract_lines = \"\"\n",
        "  abstract_samples = []\n",
        "\n",
        "  for line in input_lines:\n",
        "    if line.startswith(\"###\"):\n",
        "      abstract_id = line\n",
        "      abstract_lines = \"\"\n",
        "    elif line.isspace():\n",
        "      abstract_line_split = abstract_lines.splitlines()\n",
        "\n",
        "      for abstract_line_number, abstract_line in enumerate(abstract_line_split):\n",
        "        line_data = {}\n",
        "        target_text_split = abstract_line.split(\"\\t\")\n",
        "        line_data[\"target\"] = target_text_split[0]\n",
        "        line_data[\"text\"] = target_text_split[1].lower()\n",
        "        line_data[\"line_number\"] = abstract_line_number\n",
        "        line_data[\"total_lines\"] = len(abstract_line_split) - 1\n",
        "        abstract_samples.append(line_data)\n",
        "    else:\n",
        "      abstract_lines+=line\n",
        "  return abstract_samples\n"
      ],
      "metadata": {
        "id": "BRdxCBm3hdym"
      },
      "execution_count": null,
      "outputs": []
    },
    {
      "cell_type": "code",
      "source": [
        "train_samples = preprocess_text_with_line_numbers(data_dir + \"train.txt\")\n",
        "val_samples = preprocess_text_with_line_numbers(data_dir + \"dev.txt\") \n",
        "test_samples = preprocess_text_with_line_numbers(data_dir + \"test.txt\")\n",
        "len(train_samples), len(val_samples), len(test_samples)"
      ],
      "metadata": {
        "colab": {
          "base_uri": "https://localhost:8080/"
        },
        "id": "yup491N7pghp",
        "outputId": "f21b3fc3-bcf3-441a-b179-f27985b87e8a"
      },
      "execution_count": null,
      "outputs": [
        {
          "output_type": "execute_result",
          "data": {
            "text/plain": [
              "(180040, 30212, 30135)"
            ]
          },
          "metadata": {},
          "execution_count": 11
        }
      ]
    },
    {
      "cell_type": "code",
      "source": [
        "train_samples[:12]"
      ],
      "metadata": {
        "colab": {
          "base_uri": "https://localhost:8080/"
        },
        "id": "NwbBuR80pr8h",
        "outputId": "812fdf81-3d24-47d2-d0df-56b7598ef1b0"
      },
      "execution_count": null,
      "outputs": [
        {
          "output_type": "execute_result",
          "data": {
            "text/plain": [
              "[{'line_number': 0,\n",
              "  'target': 'OBJECTIVE',\n",
              "  'text': 'to investigate the efficacy of @ weeks of daily low-dose oral prednisolone in improving pain , mobility , and systemic low-grade inflammation in the short term and whether the effect would be sustained at @ weeks in older adults with moderate to severe knee osteoarthritis ( oa ) .',\n",
              "  'total_lines': 11},\n",
              " {'line_number': 1,\n",
              "  'target': 'METHODS',\n",
              "  'text': 'a total of @ patients with primary knee oa were randomized @:@ ; @ received @ mg/day of prednisolone and @ received placebo for @ weeks .',\n",
              "  'total_lines': 11},\n",
              " {'line_number': 2,\n",
              "  'target': 'METHODS',\n",
              "  'text': 'outcome measures included pain reduction and improvement in function scores and systemic inflammation markers .',\n",
              "  'total_lines': 11},\n",
              " {'line_number': 3,\n",
              "  'target': 'METHODS',\n",
              "  'text': 'pain was assessed using the visual analog pain scale ( @-@ mm ) .',\n",
              "  'total_lines': 11},\n",
              " {'line_number': 4,\n",
              "  'target': 'METHODS',\n",
              "  'text': 'secondary outcome measures included the western ontario and mcmaster universities osteoarthritis index scores , patient global assessment ( pga ) of the severity of knee oa , and @-min walk distance ( @mwd ) .',\n",
              "  'total_lines': 11},\n",
              " {'line_number': 5,\n",
              "  'target': 'METHODS',\n",
              "  'text': 'serum levels of interleukin @ ( il-@ ) , il-@ , tumor necrosis factor ( tnf ) - , and high-sensitivity c-reactive protein ( hscrp ) were measured .',\n",
              "  'total_lines': 11},\n",
              " {'line_number': 6,\n",
              "  'target': 'RESULTS',\n",
              "  'text': 'there was a clinically relevant reduction in the intervention group compared to the placebo group for knee pain , physical function , pga , and @mwd at @ weeks .',\n",
              "  'total_lines': 11},\n",
              " {'line_number': 7,\n",
              "  'target': 'RESULTS',\n",
              "  'text': 'the mean difference between treatment arms ( @ % ci ) was @ ( @-@ @ ) , p < @ ; @ ( @-@ @ ) , p < @ ; @ ( @-@ @ ) , p < @ ; and @ ( @-@ @ ) , p < @ , respectively .',\n",
              "  'total_lines': 11},\n",
              " {'line_number': 8,\n",
              "  'target': 'RESULTS',\n",
              "  'text': 'further , there was a clinically relevant reduction in the serum levels of il-@ , il-@ , tnf - , and hscrp at @ weeks in the intervention group when compared to the placebo group .',\n",
              "  'total_lines': 11},\n",
              " {'line_number': 9,\n",
              "  'target': 'RESULTS',\n",
              "  'text': 'these differences remained significant at @ weeks .',\n",
              "  'total_lines': 11},\n",
              " {'line_number': 10,\n",
              "  'target': 'RESULTS',\n",
              "  'text': 'the outcome measures in rheumatology clinical trials-osteoarthritis research society international responder rate was @ % in the intervention group and @ % in the placebo group ( p < @ ) .',\n",
              "  'total_lines': 11},\n",
              " {'line_number': 11,\n",
              "  'target': 'CONCLUSIONS',\n",
              "  'text': 'low-dose oral prednisolone had both a short-term and a longer sustained effect resulting in less knee pain , better physical function , and attenuation of systemic inflammation in older patients with knee oa ( clinicaltrials.gov identifier nct@ ) .',\n",
              "  'total_lines': 11}]"
            ]
          },
          "metadata": {},
          "execution_count": 12
        }
      ]
    },
    {
      "cell_type": "code",
      "source": [
        "import pandas as pd\n",
        "train_df = pd.DataFrame(train_samples)\n",
        "val_df = pd.DataFrame(val_samples)\n",
        "test_df = pd.DataFrame(test_samples)\n",
        "train_df.head(15)"
      ],
      "metadata": {
        "colab": {
          "base_uri": "https://localhost:8080/",
          "height": 824
        },
        "id": "jkDogmRMp3oP",
        "outputId": "b4fdc3ed-dba6-451c-a0a8-4f70414b14c3"
      },
      "execution_count": null,
      "outputs": [
        {
          "output_type": "execute_result",
          "data": {
            "text/plain": [
              "         target                                               text  \\\n",
              "0     OBJECTIVE  to investigate the efficacy of @ weeks of dail...   \n",
              "1       METHODS  a total of @ patients with primary knee oa wer...   \n",
              "2       METHODS  outcome measures included pain reduction and i...   \n",
              "3       METHODS  pain was assessed using the visual analog pain...   \n",
              "4       METHODS  secondary outcome measures included the wester...   \n",
              "5       METHODS  serum levels of interleukin @ ( il-@ ) , il-@ ...   \n",
              "6       RESULTS  there was a clinically relevant reduction in t...   \n",
              "7       RESULTS  the mean difference between treatment arms ( @...   \n",
              "8       RESULTS  further , there was a clinically relevant redu...   \n",
              "9       RESULTS  these differences remained significant at @ we...   \n",
              "10      RESULTS  the outcome measures in rheumatology clinical ...   \n",
              "11  CONCLUSIONS  low-dose oral prednisolone had both a short-te...   \n",
              "12   BACKGROUND  emotional eating is associated with overeating...   \n",
              "13   BACKGROUND  yet , empirical evidence for individual ( trai...   \n",
              "14    OBJECTIVE  the aim of this study was to test if attention...   \n",
              "\n",
              "    line_number  total_lines  \n",
              "0             0           11  \n",
              "1             1           11  \n",
              "2             2           11  \n",
              "3             3           11  \n",
              "4             4           11  \n",
              "5             5           11  \n",
              "6             6           11  \n",
              "7             7           11  \n",
              "8             8           11  \n",
              "9             9           11  \n",
              "10           10           11  \n",
              "11           11           11  \n",
              "12            0           10  \n",
              "13            1           10  \n",
              "14            2           10  "
            ],
            "text/html": [
              "\n",
              "  <div id=\"df-34d6210a-acd8-4263-8014-c29237f31c38\">\n",
              "    <div class=\"colab-df-container\">\n",
              "      <div>\n",
              "<style scoped>\n",
              "    .dataframe tbody tr th:only-of-type {\n",
              "        vertical-align: middle;\n",
              "    }\n",
              "\n",
              "    .dataframe tbody tr th {\n",
              "        vertical-align: top;\n",
              "    }\n",
              "\n",
              "    .dataframe thead th {\n",
              "        text-align: right;\n",
              "    }\n",
              "</style>\n",
              "<table border=\"1\" class=\"dataframe\">\n",
              "  <thead>\n",
              "    <tr style=\"text-align: right;\">\n",
              "      <th></th>\n",
              "      <th>target</th>\n",
              "      <th>text</th>\n",
              "      <th>line_number</th>\n",
              "      <th>total_lines</th>\n",
              "    </tr>\n",
              "  </thead>\n",
              "  <tbody>\n",
              "    <tr>\n",
              "      <th>0</th>\n",
              "      <td>OBJECTIVE</td>\n",
              "      <td>to investigate the efficacy of @ weeks of dail...</td>\n",
              "      <td>0</td>\n",
              "      <td>11</td>\n",
              "    </tr>\n",
              "    <tr>\n",
              "      <th>1</th>\n",
              "      <td>METHODS</td>\n",
              "      <td>a total of @ patients with primary knee oa wer...</td>\n",
              "      <td>1</td>\n",
              "      <td>11</td>\n",
              "    </tr>\n",
              "    <tr>\n",
              "      <th>2</th>\n",
              "      <td>METHODS</td>\n",
              "      <td>outcome measures included pain reduction and i...</td>\n",
              "      <td>2</td>\n",
              "      <td>11</td>\n",
              "    </tr>\n",
              "    <tr>\n",
              "      <th>3</th>\n",
              "      <td>METHODS</td>\n",
              "      <td>pain was assessed using the visual analog pain...</td>\n",
              "      <td>3</td>\n",
              "      <td>11</td>\n",
              "    </tr>\n",
              "    <tr>\n",
              "      <th>4</th>\n",
              "      <td>METHODS</td>\n",
              "      <td>secondary outcome measures included the wester...</td>\n",
              "      <td>4</td>\n",
              "      <td>11</td>\n",
              "    </tr>\n",
              "    <tr>\n",
              "      <th>5</th>\n",
              "      <td>METHODS</td>\n",
              "      <td>serum levels of interleukin @ ( il-@ ) , il-@ ...</td>\n",
              "      <td>5</td>\n",
              "      <td>11</td>\n",
              "    </tr>\n",
              "    <tr>\n",
              "      <th>6</th>\n",
              "      <td>RESULTS</td>\n",
              "      <td>there was a clinically relevant reduction in t...</td>\n",
              "      <td>6</td>\n",
              "      <td>11</td>\n",
              "    </tr>\n",
              "    <tr>\n",
              "      <th>7</th>\n",
              "      <td>RESULTS</td>\n",
              "      <td>the mean difference between treatment arms ( @...</td>\n",
              "      <td>7</td>\n",
              "      <td>11</td>\n",
              "    </tr>\n",
              "    <tr>\n",
              "      <th>8</th>\n",
              "      <td>RESULTS</td>\n",
              "      <td>further , there was a clinically relevant redu...</td>\n",
              "      <td>8</td>\n",
              "      <td>11</td>\n",
              "    </tr>\n",
              "    <tr>\n",
              "      <th>9</th>\n",
              "      <td>RESULTS</td>\n",
              "      <td>these differences remained significant at @ we...</td>\n",
              "      <td>9</td>\n",
              "      <td>11</td>\n",
              "    </tr>\n",
              "    <tr>\n",
              "      <th>10</th>\n",
              "      <td>RESULTS</td>\n",
              "      <td>the outcome measures in rheumatology clinical ...</td>\n",
              "      <td>10</td>\n",
              "      <td>11</td>\n",
              "    </tr>\n",
              "    <tr>\n",
              "      <th>11</th>\n",
              "      <td>CONCLUSIONS</td>\n",
              "      <td>low-dose oral prednisolone had both a short-te...</td>\n",
              "      <td>11</td>\n",
              "      <td>11</td>\n",
              "    </tr>\n",
              "    <tr>\n",
              "      <th>12</th>\n",
              "      <td>BACKGROUND</td>\n",
              "      <td>emotional eating is associated with overeating...</td>\n",
              "      <td>0</td>\n",
              "      <td>10</td>\n",
              "    </tr>\n",
              "    <tr>\n",
              "      <th>13</th>\n",
              "      <td>BACKGROUND</td>\n",
              "      <td>yet , empirical evidence for individual ( trai...</td>\n",
              "      <td>1</td>\n",
              "      <td>10</td>\n",
              "    </tr>\n",
              "    <tr>\n",
              "      <th>14</th>\n",
              "      <td>OBJECTIVE</td>\n",
              "      <td>the aim of this study was to test if attention...</td>\n",
              "      <td>2</td>\n",
              "      <td>10</td>\n",
              "    </tr>\n",
              "  </tbody>\n",
              "</table>\n",
              "</div>\n",
              "      <button class=\"colab-df-convert\" onclick=\"convertToInteractive('df-34d6210a-acd8-4263-8014-c29237f31c38')\"\n",
              "              title=\"Convert this dataframe to an interactive table.\"\n",
              "              style=\"display:none;\">\n",
              "        \n",
              "  <svg xmlns=\"http://www.w3.org/2000/svg\" height=\"24px\"viewBox=\"0 0 24 24\"\n",
              "       width=\"24px\">\n",
              "    <path d=\"M0 0h24v24H0V0z\" fill=\"none\"/>\n",
              "    <path d=\"M18.56 5.44l.94 2.06.94-2.06 2.06-.94-2.06-.94-.94-2.06-.94 2.06-2.06.94zm-11 1L8.5 8.5l.94-2.06 2.06-.94-2.06-.94L8.5 2.5l-.94 2.06-2.06.94zm10 10l.94 2.06.94-2.06 2.06-.94-2.06-.94-.94-2.06-.94 2.06-2.06.94z\"/><path d=\"M17.41 7.96l-1.37-1.37c-.4-.4-.92-.59-1.43-.59-.52 0-1.04.2-1.43.59L10.3 9.45l-7.72 7.72c-.78.78-.78 2.05 0 2.83L4 21.41c.39.39.9.59 1.41.59.51 0 1.02-.2 1.41-.59l7.78-7.78 2.81-2.81c.8-.78.8-2.07 0-2.86zM5.41 20L4 18.59l7.72-7.72 1.47 1.35L5.41 20z\"/>\n",
              "  </svg>\n",
              "      </button>\n",
              "      \n",
              "  <style>\n",
              "    .colab-df-container {\n",
              "      display:flex;\n",
              "      flex-wrap:wrap;\n",
              "      gap: 12px;\n",
              "    }\n",
              "\n",
              "    .colab-df-convert {\n",
              "      background-color: #E8F0FE;\n",
              "      border: none;\n",
              "      border-radius: 50%;\n",
              "      cursor: pointer;\n",
              "      display: none;\n",
              "      fill: #1967D2;\n",
              "      height: 32px;\n",
              "      padding: 0 0 0 0;\n",
              "      width: 32px;\n",
              "    }\n",
              "\n",
              "    .colab-df-convert:hover {\n",
              "      background-color: #E2EBFA;\n",
              "      box-shadow: 0px 1px 2px rgba(60, 64, 67, 0.3), 0px 1px 3px 1px rgba(60, 64, 67, 0.15);\n",
              "      fill: #174EA6;\n",
              "    }\n",
              "\n",
              "    [theme=dark] .colab-df-convert {\n",
              "      background-color: #3B4455;\n",
              "      fill: #D2E3FC;\n",
              "    }\n",
              "\n",
              "    [theme=dark] .colab-df-convert:hover {\n",
              "      background-color: #434B5C;\n",
              "      box-shadow: 0px 1px 3px 1px rgba(0, 0, 0, 0.15);\n",
              "      filter: drop-shadow(0px 1px 2px rgba(0, 0, 0, 0.3));\n",
              "      fill: #FFFFFF;\n",
              "    }\n",
              "  </style>\n",
              "\n",
              "      <script>\n",
              "        const buttonEl =\n",
              "          document.querySelector('#df-34d6210a-acd8-4263-8014-c29237f31c38 button.colab-df-convert');\n",
              "        buttonEl.style.display =\n",
              "          google.colab.kernel.accessAllowed ? 'block' : 'none';\n",
              "\n",
              "        async function convertToInteractive(key) {\n",
              "          const element = document.querySelector('#df-34d6210a-acd8-4263-8014-c29237f31c38');\n",
              "          const dataTable =\n",
              "            await google.colab.kernel.invokeFunction('convertToInteractive',\n",
              "                                                     [key], {});\n",
              "          if (!dataTable) return;\n",
              "\n",
              "          const docLinkHtml = 'Like what you see? Visit the ' +\n",
              "            '<a target=\"_blank\" href=https://colab.research.google.com/notebooks/data_table.ipynb>data table notebook</a>'\n",
              "            + ' to learn more about interactive tables.';\n",
              "          element.innerHTML = '';\n",
              "          dataTable['output_type'] = 'display_data';\n",
              "          await google.colab.output.renderOutput(dataTable, element);\n",
              "          const docLink = document.createElement('div');\n",
              "          docLink.innerHTML = docLinkHtml;\n",
              "          element.appendChild(docLink);\n",
              "        }\n",
              "      </script>\n",
              "    </div>\n",
              "  </div>\n",
              "  "
            ]
          },
          "metadata": {},
          "execution_count": 13
        }
      ]
    },
    {
      "cell_type": "code",
      "source": [
        "train_df.target.value_counts()"
      ],
      "metadata": {
        "colab": {
          "base_uri": "https://localhost:8080/"
        },
        "id": "Fz1N-6P4rbMf",
        "outputId": "52cc1e62-b1d4-4898-9419-6d532cd2fd6a"
      },
      "execution_count": null,
      "outputs": [
        {
          "output_type": "execute_result",
          "data": {
            "text/plain": [
              "METHODS        59353\n",
              "RESULTS        57953\n",
              "CONCLUSIONS    27168\n",
              "BACKGROUND     21727\n",
              "OBJECTIVE      13839\n",
              "Name: target, dtype: int64"
            ]
          },
          "metadata": {},
          "execution_count": 14
        }
      ]
    },
    {
      "cell_type": "code",
      "source": [
        "train_df.total_lines.plot.hist(figsize=(5,3.5))"
      ],
      "metadata": {
        "colab": {
          "base_uri": "https://localhost:8080/",
          "height": 257
        },
        "id": "VqstvUCqsJcQ",
        "outputId": "7f8c0e50-2485-4741-a592-6cf391d368ed"
      },
      "execution_count": null,
      "outputs": [
        {
          "output_type": "execute_result",
          "data": {
            "text/plain": [
              "<matplotlib.axes._subplots.AxesSubplot at 0x7f2ffd803dd0>"
            ]
          },
          "metadata": {},
          "execution_count": 15
        },
        {
          "output_type": "display_data",
          "data": {
            "text/plain": [
              "<Figure size 360x252 with 1 Axes>"
            ],
            "image/png": "[encoded data removed]"
          },
          "metadata": {
            "needs_background": "light"
          }
        }
      ]
    },
    {
      "cell_type": "code",
      "source": [
        "train_sentences = train_df[\"text\"].tolist()\n",
        "val_sentences = val_df[\"text\"].tolist()\n",
        "test_sentences = test_df[\"text\"].tolist()\n",
        "len(train_sentences), len(val_sentences), len(test_sentences)"
      ],
      "metadata": {
        "colab": {
          "base_uri": "https://localhost:8080/"
        },
        "id": "VdIG43VIsQPu",
        "outputId": "f481af37-59cf-4add-96fc-4029c1ca27b8"
      },
      "execution_count": null,
      "outputs": [
        {
          "output_type": "execute_result",
          "data": {
            "text/plain": [
              "(180040, 30212, 30135)"
            ]
          },
          "metadata": {},
          "execution_count": 16
        }
      ]
    },
    {
      "cell_type": "code",
      "source": [
        "train_sentences[:10]"
      ],
      "metadata": {
        "colab": {
          "base_uri": "https://localhost:8080/"
        },
        "id": "erMwdXRXsqza",
        "outputId": "a530d479-1bc6-46c1-f6f9-1d8ef5924d95"
      },
      "execution_count": null,
      "outputs": [
        {
          "output_type": "execute_result",
          "data": {
            "text/plain": [
              "['to investigate the efficacy of @ weeks of daily low-dose oral prednisolone in improving pain , mobility , and systemic low-grade inflammation in the short term and whether the effect would be sustained at @ weeks in older adults with moderate to severe knee osteoarthritis ( oa ) .',\n",
              " 'a total of @ patients with primary knee oa were randomized @:@ ; @ received @ mg/day of prednisolone and @ received placebo for @ weeks .',\n",
              " 'outcome measures included pain reduction and improvement in function scores and systemic inflammation markers .',\n",
              " 'pain was assessed using the visual analog pain scale ( @-@ mm ) .',\n",
              " 'secondary outcome measures included the western ontario and mcmaster universities osteoarthritis index scores , patient global assessment ( pga ) of the severity of knee oa , and @-min walk distance ( @mwd ) .',\n",
              " 'serum levels of interleukin @ ( il-@ ) , il-@ , tumor necrosis factor ( tnf ) - , and high-sensitivity c-reactive protein ( hscrp ) were measured .',\n",
              " 'there was a clinically relevant reduction in the intervention group compared to the placebo group for knee pain , physical function , pga , and @mwd at @ weeks .',\n",
              " 'the mean difference between treatment arms ( @ % ci ) was @ ( @-@ @ ) , p < @ ; @ ( @-@ @ ) , p < @ ; @ ( @-@ @ ) , p < @ ; and @ ( @-@ @ ) , p < @ , respectively .',\n",
              " 'further , there was a clinically relevant reduction in the serum levels of il-@ , il-@ , tnf - , and hscrp at @ weeks in the intervention group when compared to the placebo group .',\n",
              " 'these differences remained significant at @ weeks .']"
            ]
          },
          "metadata": {},
          "execution_count": 17
        }
      ]
    },
    {
      "cell_type": "code",
      "source": [
        "from sklearn.preprocessing import OneHotEncoder\n",
        "one_hot_encoder = OneHotEncoder(sparse = False)\n",
        "train_labels_one_hot = one_hot_encoder.fit_transform(train_df[\"target\"].to_numpy().reshape(-1,1))"
      ],
      "metadata": {
        "id": "TbXqt9oBstU9"
      },
      "execution_count": null,
      "outputs": []
    },
    {
      "cell_type": "code",
      "source": [
        "train_labels_one_hot"
      ],
      "metadata": {
        "colab": {
          "base_uri": "https://localhost:8080/"
        },
        "id": "3GG12tjXteaA",
        "outputId": "b4f3033d-2285-4de2-da6a-95be1ef3dd87"
      },
      "execution_count": null,
      "outputs": [
        {
          "output_type": "execute_result",
          "data": {
            "text/plain": [
              "array([[0., 0., 0., 1., 0.],\n",
              "       [0., 0., 1., 0., 0.],\n",
              "       [0., 0., 1., 0., 0.],\n",
              "       ...,\n",
              "       [0., 0., 0., 0., 1.],\n",
              "       [0., 1., 0., 0., 0.],\n",
              "       [0., 1., 0., 0., 0.]])"
            ]
          },
          "metadata": {},
          "execution_count": 19
        }
      ]
    },
    {
      "cell_type": "code",
      "source": [
        "val_labels_one_hot = one_hot_encoder.transform(val_df[\"target\"].to_numpy().reshape(-1, 1))\n",
        "test_labels_one_hot = one_hot_encoder.transform(test_df[\"target\"].to_numpy().reshape(-1, 1))\n"
      ],
      "metadata": {
        "id": "A0HRolyttgUE"
      },
      "execution_count": null,
      "outputs": []
    },
    {
      "cell_type": "code",
      "source": [
        "val_labels_one_hot"
      ],
      "metadata": {
        "colab": {
          "base_uri": "https://localhost:8080/"
        },
        "id": "G9_AA7obt20Z",
        "outputId": "04612cf2-4328-4873-b5d3-c772460065d0"
      },
      "execution_count": null,
      "outputs": [
        {
          "output_type": "execute_result",
          "data": {
            "text/plain": [
              "array([[1., 0., 0., 0., 0.],\n",
              "       [1., 0., 0., 0., 0.],\n",
              "       [0., 0., 0., 1., 0.],\n",
              "       ...,\n",
              "       [0., 0., 0., 0., 1.],\n",
              "       [0., 1., 0., 0., 0.],\n",
              "       [0., 1., 0., 0., 0.]])"
            ]
          },
          "metadata": {},
          "execution_count": 21
        }
      ]
    },
    {
      "cell_type": "code",
      "source": [
        "test_labels_one_hot"
      ],
      "metadata": {
        "colab": {
          "base_uri": "https://localhost:8080/"
        },
        "id": "XUgFx2Ptt6IT",
        "outputId": "4b6e2d4d-6388-436c-8cd0-12c6130dda84"
      },
      "execution_count": null,
      "outputs": [
        {
          "output_type": "execute_result",
          "data": {
            "text/plain": [
              "array([[1., 0., 0., 0., 0.],\n",
              "       [0., 0., 0., 0., 1.],\n",
              "       [0., 0., 0., 0., 1.],\n",
              "       ...,\n",
              "       [0., 0., 0., 0., 1.],\n",
              "       [0., 0., 0., 0., 1.],\n",
              "       [0., 1., 0., 0., 0.]])"
            ]
          },
          "metadata": {},
          "execution_count": 22
        }
      ]
    },
    {
      "cell_type": "code",
      "source": [
        "from sklearn.preprocessing import LabelEncoder\n",
        "label_encoder = LabelEncoder()\n",
        "train_labels_encoded = label_encoder.fit_transform(train_df[\"target\"].to_numpy())\n",
        "val_labels_encoded = label_encoder.transform(val_df[\"target\"].to_numpy())\n",
        "test_labels_encoded = label_encoder.transform(test_df[\"target\"].to_numpy())\n",
        "train_labels_encoded\n"
      ],
      "metadata": {
        "colab": {
          "base_uri": "https://localhost:8080/"
        },
        "id": "17C_2kdRt7mF",
        "outputId": "6951058a-748b-40ec-8d2e-c0fcd7f2bb4d"
      },
      "execution_count": null,
      "outputs": [
        {
          "output_type": "execute_result",
          "data": {
            "text/plain": [
              "array([3, 2, 2, ..., 4, 1, 1])"
            ]
          },
          "metadata": {},
          "execution_count": 23
        }
      ]
    },
    {
      "cell_type": "code",
      "source": [
        "len(train_labels_encoded)"
      ],
      "metadata": {
        "colab": {
          "base_uri": "https://localhost:8080/"
        },
        "id": "4UV3IW5hvaPH",
        "outputId": "2890ae54-bc97-48d4-9819-24ab3d9e6040"
      },
      "execution_count": null,
      "outputs": [
        {
          "output_type": "execute_result",
          "data": {
            "text/plain": [
              "180040"
            ]
          },
          "metadata": {},
          "execution_count": 24
        }
      ]
    },
    {
      "cell_type": "code",
      "source": [
        "num_classes = len(label_encoder.classes_)\n",
        "class_names = label_encoder.classes_\n",
        "num_classes, class_names"
      ],
      "metadata": {
        "colab": {
          "base_uri": "https://localhost:8080/"
        },
        "id": "ic4v9GAJvgYk",
        "outputId": "c89c4646-0a27-4b19-d42b-b2195725a3ba"
      },
      "execution_count": null,
      "outputs": [
        {
          "output_type": "execute_result",
          "data": {
            "text/plain": [
              "(5, array(['BACKGROUND', 'CONCLUSIONS', 'METHODS', 'OBJECTIVE', 'RESULTS'],\n",
              "       dtype=object))"
            ]
          },
          "metadata": {},
          "execution_count": 25
        }
      ]
    },
    {
      "cell_type": "markdown",
      "source": [
        "### Baseline - Tfidf + Naive Bayes"
      ],
      "metadata": {
        "id": "lw_Qi-yev06f"
      }
    },
    {
      "cell_type": "code",
      "source": [
        "from sklearn.feature_extraction.text import TfidfVectorizer\n",
        "from sklearn.naive_bayes import MultinomialNB\n",
        "from sklearn.pipeline import Pipeline\n",
        "\n",
        "model_0 = Pipeline([\n",
        "                    (\"tf-idf\", TfidfVectorizer()),\n",
        "                    (\"clf\", MultinomialNB())\n",
        "])\n",
        "\n",
        "model_0.fit(X=train_sentences, y=train_labels_encoded)"
      ],
      "metadata": {
        "colab": {
          "base_uri": "https://localhost:8080/"
        },
        "id": "eibwMo1dwmpo",
        "outputId": "5a08f090-01b4-4882-cad5-922817f76c95"
      },
      "execution_count": null,
      "outputs": [
        {
          "output_type": "execute_result",
          "data": {
            "text/plain": [
              "Pipeline(steps=[('tf-idf', TfidfVectorizer()), ('clf', MultinomialNB())])"
            ]
          },
          "metadata": {},
          "execution_count": 26
        }
      ]
    },
    {
      "cell_type": "code",
      "source": [
        "model_0.score(X=val_sentences, y = val_labels_encoded)"
      ],
      "metadata": {
        "colab": {
          "base_uri": "https://localhost:8080/"
        },
        "id": "rBqI95D2xedJ",
        "outputId": "848adffa-cf5b-4e4c-c8f5-6c7c0416e222"
      },
      "execution_count": null,
      "outputs": [
        {
          "output_type": "execute_result",
          "data": {
            "text/plain": [
              "0.7218323844829869"
            ]
          },
          "metadata": {},
          "execution_count": 27
        }
      ]
    },
    {
      "cell_type": "code",
      "source": [
        "baseline_preds = model_0.predict(val_sentences)\n",
        "baseline_preds"
      ],
      "metadata": {
        "colab": {
          "base_uri": "https://localhost:8080/"
        },
        "id": "YeEkrmbSxrdp",
        "outputId": "ded67f12-f258-4167-8dd2-89516a4a70fd"
      },
      "execution_count": null,
      "outputs": [
        {
          "output_type": "execute_result",
          "data": {
            "text/plain": [
              "array([4, 1, 3, ..., 4, 4, 1])"
            ]
          },
          "metadata": {},
          "execution_count": 28
        }
      ]
    },
    {
      "cell_type": "code",
      "source": [
        "from sklearn.metrics import accuracy_score, precision_recall_fscore_support\n",
        "\n",
        "def calculate_results(y_true, y_pred):\n",
        "\n",
        "  model_accuracy = accuracy_score(y_true, y_pred) * 100\n",
        "\n",
        "  model_precision, model_recall, model_f1, _ = precision_recall_fscore_support(y_true, y_pred, average=\"weighted\")\n",
        "  model_results = {\"accuracy\": model_accuracy,\n",
        "                  \"precision\": model_precision,\n",
        "                  \"recall\": model_recall,\n",
        "                  \"f1\": model_f1}\n",
        "  return model_results"
      ],
      "metadata": {
        "id": "4E7SZn2Rzg3Z"
      },
      "execution_count": null,
      "outputs": []
    },
    {
      "cell_type": "code",
      "source": [
        "baseline_results = calculate_results(y_true=val_labels_encoded,\n",
        "                                     y_pred=baseline_preds)\n",
        "baseline_results"
      ],
      "metadata": {
        "colab": {
          "base_uri": "https://localhost:8080/"
        },
        "id": "dw7aBiSs0Jj8",
        "outputId": "f57a0884-36e8-4e9b-ec89-77e74a81da58"
      },
      "execution_count": null,
      "outputs": [
        {
          "output_type": "execute_result",
          "data": {
            "text/plain": [
              "{'accuracy': 72.1832384482987,\n",
              " 'f1': 0.6989250353450294,\n",
              " 'precision': 0.7186466952323352,\n",
              " 'recall': 0.7218323844829869}"
            ]
          },
          "metadata": {},
          "execution_count": 30
        }
      ]
    },
    {
      "cell_type": "markdown",
      "source": [
        "###Building Sequence Models"
      ],
      "metadata": {
        "id": "Qmn_LhI90ZPF"
      }
    },
    {
      "cell_type": "code",
      "source": [
        "import numpy as np\n",
        "import tensorflow as tf\n",
        "from tensorflow.keras import layers"
      ],
      "metadata": {
        "id": "kRjIdX4V0fpk"
      },
      "execution_count": null,
      "outputs": []
    },
    {
      "cell_type": "code",
      "source": [
        "sent_lens = [len(sentence.split()) for sentence in train_sentences]\n",
        "avg_sent_len = np.mean(sent_lens)\n",
        "avg_sent_len"
      ],
      "metadata": {
        "colab": {
          "base_uri": "https://localhost:8080/"
        },
        "id": "wLPWN_5O0o5M",
        "outputId": "3d2f9115-80ec-4968-8c3a-02c5b92eeaeb"
      },
      "execution_count": null,
      "outputs": [
        {
          "output_type": "execute_result",
          "data": {
            "text/plain": [
              "26.338269273494777"
            ]
          },
          "metadata": {},
          "execution_count": 32
        }
      ]
    },
    {
      "cell_type": "code",
      "source": [
        "import matplotlib.pyplot as plt\n",
        "plt.hist(sent_lens, bins=7);\n"
      ],
      "metadata": {
        "colab": {
          "base_uri": "https://localhost:8080/",
          "height": 265
        },
        "id": "Z7lWJYUS3qE2",
        "outputId": "2330c738-fceb-4502-b338-a5797757b903"
      },
      "execution_count": null,
      "outputs": [
        {
          "output_type": "display_data",
          "data": {
            "text/plain": [
              "<Figure size 432x288 with 1 Axes>"
            ],
            "image/png": "[encoded data removed]"
          },
          "metadata": {
            "needs_background": "light"
          }
        }
      ]
    },
    {
      "cell_type": "code",
      "source": [
        "output_seq_len = int(np.percentile(sent_lens, 95))\n",
        "output_seq_len"
      ],
      "metadata": {
        "id": "YAAFhhBF31wr",
        "colab": {
          "base_uri": "https://localhost:8080/"
        },
        "outputId": "f008dcd2-720c-46b4-e4db-e41e6b073a13"
      },
      "execution_count": null,
      "outputs": [
        {
          "output_type": "execute_result",
          "data": {
            "text/plain": [
              "55"
            ]
          },
          "metadata": {},
          "execution_count": 34
        }
      ]
    },
    {
      "cell_type": "code",
      "source": [
        " max(sent_lens)"
      ],
      "metadata": {
        "colab": {
          "base_uri": "https://localhost:8080/"
        },
        "id": "D5Bk9_0X_ona",
        "outputId": "8a30102e-f393-4170-c179-fd8dea9921d5"
      },
      "execution_count": null,
      "outputs": [
        {
          "output_type": "execute_result",
          "data": {
            "text/plain": [
              "296"
            ]
          },
          "metadata": {},
          "execution_count": 35
        }
      ]
    },
    {
      "cell_type": "code",
      "source": [
        "max_tokens = 68000 #Given in the paper."
      ],
      "metadata": {
        "id": "4uZbSyJhAr2V"
      },
      "execution_count": null,
      "outputs": []
    },
    {
      "cell_type": "code",
      "source": [
        "from tensorflow.keras.layers.experimental.preprocessing import TextVectorization\n",
        "\n",
        "text_vectorizer = TextVectorization(max_tokens = max_tokens,\n",
        "                                    output_sequence_length = 55)"
      ],
      "metadata": {
        "id": "t_ZpDXaXBHE-"
      },
      "execution_count": null,
      "outputs": []
    },
    {
      "cell_type": "code",
      "source": [
        "text_vectorizer.adapt(train_sentences)"
      ],
      "metadata": {
        "id": "gTn67tn4Bj3x"
      },
      "execution_count": null,
      "outputs": []
    },
    {
      "cell_type": "code",
      "source": [
        "import random\n",
        "target_sentence = random.choice(train_sentences)\n",
        "print(f\"Text:\\n{target_sentence}\")\n",
        "print(f\"\\nLength of text: {len(target_sentence.split())}\")\n",
        "print(f\"\\nVectorized text:\\n{text_vectorizer([target_sentence])}\")"
      ],
      "metadata": {
        "colab": {
          "base_uri": "https://localhost:8080/"
        },
        "id": "dJ3GhaDcByJc",
        "outputId": "72088423-e956-45c4-f01e-24043b4e10a4"
      },
      "execution_count": null,
      "outputs": [
        {
          "output_type": "stream",
          "name": "stdout",
          "text": [
            "Text:\n",
            "the clinical utility of genotype-guided ( pharmacogenetically based ) dosing of warfarin has been tested only in small clinical trials or observational studies , with equivocal results .\n",
            "\n",
            "Length of text: 28\n",
            "\n",
            "Vectorized text:\n",
            "[[    2    47  2049     4 10743 49129   261   915     4  2163   139   167\n",
            "    567   192     5   521    47   233    16  1636   202     7 16036   117\n",
            "      0     0     0     0     0     0     0     0     0     0     0     0\n",
            "      0     0     0     0     0     0     0     0     0     0     0     0\n",
            "      0     0     0     0     0     0     0]]\n"
          ]
        }
      ]
    },
    {
      "cell_type": "code",
      "source": [
        "rct_20k_text_vocab = text_vectorizer.get_vocabulary()\n",
        "print(f\"Number of words in vocabulary: {len(rct_20k_text_vocab)}\"), \n",
        "print(f\"Most common words in the vocabulary: {rct_20k_text_vocab[:5]}\")\n",
        "print(f\"Least common words in the vocabulary: {rct_20k_text_vocab[-5:]}\")"
      ],
      "metadata": {
        "colab": {
          "base_uri": "https://localhost:8080/"
        },
        "id": "tnHhCc0SC_PJ",
        "outputId": "22009f8d-e50e-4892-ce40-81e99efe9375"
      },
      "execution_count": null,
      "outputs": [
        {
          "output_type": "stream",
          "name": "stdout",
          "text": [
            "Number of words in vocabulary: 64841\n",
            "Most common words in the vocabulary: ['', '[UNK]', 'the', 'and', 'of']\n",
            "Least common words in the vocabulary: ['aainduced', 'aaigroup', 'aachener', 'aachen', 'aaacp']\n"
          ]
        }
      ]
    },
    {
      "cell_type": "code",
      "source": [
        "text_vectorizer.get_config()"
      ],
      "metadata": {
        "colab": {
          "base_uri": "https://localhost:8080/"
        },
        "id": "xODrgKMcEyZF",
        "outputId": "d176974a-3b76-48eb-84c3-106cd2cc244d"
      },
      "execution_count": null,
      "outputs": [
        {
          "output_type": "execute_result",
          "data": {
            "text/plain": [
              "{'batch_input_shape': (None,),\n",
              " 'dtype': 'string',\n",
              " 'idf_weights': None,\n",
              " 'max_tokens': 68000,\n",
              " 'name': 'text_vectorization',\n",
              " 'ngrams': None,\n",
              " 'output_mode': 'int',\n",
              " 'output_sequence_length': 55,\n",
              " 'pad_to_max_tokens': False,\n",
              " 'ragged': False,\n",
              " 'sparse': False,\n",
              " 'split': 'whitespace',\n",
              " 'standardize': 'lower_and_strip_punctuation',\n",
              " 'trainable': True,\n",
              " 'vocabulary': None}"
            ]
          },
          "metadata": {},
          "execution_count": 41
        }
      ]
    },
    {
      "cell_type": "code",
      "source": [
        "token_embed = layers.Embedding(input_dim = len(rct_20k_text_vocab),\n",
        "                               output_dim = 128,\n",
        "                               mask_zero = True,\n",
        "                               name = 'token_embedding')"
      ],
      "metadata": {
        "id": "Em_NIRQhE_06"
      },
      "execution_count": null,
      "outputs": []
    },
    {
      "cell_type": "code",
      "source": [
        "print(f\"Sentence before vectorization:\\n{target_sentence}\\n\")\n",
        "vectorized_sentence = text_vectorizer([target_sentence])\n",
        "print(f\"Sentence after vectorization (before embedding):\\n{vectorized_sentence}\\n\")\n",
        "embedded_sentence = token_embed(vectorized_sentence)\n",
        "print(f\"Sentence after embedding:\\n{embedded_sentence}\\n\")\n",
        "print(f\"Embedded sentence shape: {embedded_sentence.shape}\")"
      ],
      "metadata": {
        "colab": {
          "base_uri": "https://localhost:8080/"
        },
        "id": "xedayLKAvD-g",
        "outputId": "1bfed0e0-9c7c-454b-8ffb-5c12670ac917"
      },
      "execution_count": null,
      "outputs": [
        {
          "output_type": "stream",
          "name": "stdout",
          "text": [
            "Sentence before vectorization:\n",
            "the clinical utility of genotype-guided ( pharmacogenetically based ) dosing of warfarin has been tested only in small clinical trials or observational studies , with equivocal results .\n",
            "\n",
            "Sentence after vectorization (before embedding):\n",
            "[[    2    47  2049     4 10743 49129   261   915     4  2163   139   167\n",
            "    567   192     5   521    47   233    16  1636   202     7 16036   117\n",
            "      0     0     0     0     0     0     0     0     0     0     0     0\n",
            "      0     0     0     0     0     0     0     0     0     0     0     0\n",
            "      0     0     0     0     0     0     0]]\n",
            "\n",
            "Sentence after embedding:\n",
            "[[[-0.00688001 -0.02390089  0.01608186 ...  0.02081187 -0.03330153\n",
            "    0.04096079]\n",
            "  [-0.000638   -0.01897868 -0.04263452 ...  0.04853748 -0.02753742\n",
            "   -0.03579951]\n",
            "  [ 0.04595437  0.02021721 -0.02634802 ... -0.0152688  -0.04516705\n",
            "    0.00199192]\n",
            "  ...\n",
            "  [ 0.0366185   0.02505573 -0.01422445 ...  0.02800094  0.02159094\n",
            "   -0.02358586]\n",
            "  [ 0.0366185   0.02505573 -0.01422445 ...  0.02800094  0.02159094\n",
            "   -0.02358586]\n",
            "  [ 0.0366185   0.02505573 -0.01422445 ...  0.02800094  0.02159094\n",
            "   -0.02358586]]]\n",
            "\n",
            "Embedded sentence shape: (1, 55, 128)\n"
          ]
        }
      ]
    },
    {
      "cell_type": "code",
      "source": [
        "train_dataset = tf.data.Dataset.from_tensor_slices((train_sentences, train_labels_one_hot))\n",
        "valid_dataset = tf.data.Dataset.from_tensor_slices((val_sentences, val_labels_one_hot))\n",
        "test_dataset = tf.data.Dataset.from_tensor_slices((test_sentences, test_labels_one_hot))\n",
        "\n",
        "train_dataset"
      ],
      "metadata": {
        "colab": {
          "base_uri": "https://localhost:8080/"
        },
        "id": "q7rkkk29vETL",
        "outputId": "05fa3e7a-1a5d-4a92-b192-c9ed8793c986"
      },
      "execution_count": null,
      "outputs": [
        {
          "output_type": "execute_result",
          "data": {
            "text/plain": [
              "<TensorSliceDataset element_spec=(TensorSpec(shape=(), dtype=tf.string, name=None), TensorSpec(shape=(5,), dtype=tf.float64, name=None))>"
            ]
          },
          "metadata": {},
          "execution_count": 44
        }
      ]
    },
    {
      "cell_type": "code",
      "source": [
        "train_dataset = train_dataset.batch(32).prefetch(tf.data.AUTOTUNE)\n",
        "test_dataset = test_dataset.batch(32).prefetch(tf.data.AUTOTUNE)\n",
        "valid_dataset = valid_dataset.batch(32).prefetch(tf.data.AUTOTUNE)\n",
        "\n",
        "train_dataset"
      ],
      "metadata": {
        "colab": {
          "base_uri": "https://localhost:8080/"
        },
        "id": "R8abS6Mkvr5_",
        "outputId": "ec76f35f-7ddb-431a-8b06-3fdc94ece650"
      },
      "execution_count": null,
      "outputs": [
        {
          "output_type": "execute_result",
          "data": {
            "text/plain": [
              "<PrefetchDataset element_spec=(TensorSpec(shape=(None,), dtype=tf.string, name=None), TensorSpec(shape=(None, 5), dtype=tf.float64, name=None))>"
            ]
          },
          "metadata": {},
          "execution_count": 45
        }
      ]
    },
    {
      "cell_type": "markdown",
      "source": [
        "### 1D Convolutional Model"
      ],
      "metadata": {
        "id": "lcWNnzvhw0_W"
      }
    },
    {
      "cell_type": "code",
      "source": [
        "inputs = layers.Input(shape=(1,), dtype = tf.string)\n",
        "text_vectors = text_vectorizer(inputs)\n",
        "token_embeddings = token_embed(text_vectors)\n",
        "x = layers.Conv1D(64, kernel_size = 5, padding='same', activation = 'relu')(token_embeddings)\n",
        "x = layers.GlobalAveragePooling1D()(x)\n",
        "outputs = layers.Dense(num_classes, activation = \"softmax\")(x)\n",
        "model_1 = tf.keras.Model(inputs, outputs)\n",
        "\n",
        "model_1.compile(loss = \"categorical_crossentropy\",\n",
        "                optimizer = tf.keras.optimizers.Adam(),\n",
        "                metrics = ['accuracy'])"
      ],
      "metadata": {
        "id": "EvnbNuf4-iwm"
      },
      "execution_count": null,
      "outputs": []
    },
    {
      "cell_type": "code",
      "source": [
        "model_1.summary()"
      ],
      "metadata": {
        "colab": {
          "base_uri": "https://localhost:8080/"
        },
        "id": "V3yizt56ABAL",
        "outputId": "82b9be29-edd7-4bb9-febd-ae489f1db21f"
      },
      "execution_count": null,
      "outputs": [
        {
          "output_type": "stream",
          "name": "stdout",
          "text": [
            "Model: \"model\"\n",
            "_________________________________________________________________\n",
            " Layer (type)                Output Shape              Param #   \n",
            "=================================================================\n",
            " input_1 (InputLayer)        [(None, 1)]               0         \n",
            "                                                                 \n",
            " text_vectorization (TextVec  (None, 55)               0         \n",
            " torization)                                                     \n",
            "                                                                 \n",
            " token_embedding (Embedding)  (None, 55, 128)          8299648   \n",
            "                                                                 \n",
            " conv1d (Conv1D)             (None, 55, 64)            41024     \n",
            "                                                                 \n",
            " global_average_pooling1d (G  (None, 64)               0         \n",
            " lobalAveragePooling1D)                                          \n",
            "                                                                 \n",
            " dense (Dense)               (None, 5)                 325       \n",
            "                                                                 \n",
            "=================================================================\n",
            "Total params: 8,340,997\n",
            "Trainable params: 8,340,997\n",
            "Non-trainable params: 0\n",
            "_________________________________________________________________\n"
          ]
        }
      ]
    },
    {
      "cell_type": "code",
      "source": [
        "model_1_history = model_1.fit(train_dataset,\n",
        "                              steps_per_epoch = int(0.1 * len(train_dataset)),\n",
        "                              epochs = 3,\n",
        "                              validation_data = valid_dataset,\n",
        "                              validation_steps = int(0.1 * len(valid_dataset)))"
      ],
      "metadata": {
        "colab": {
          "base_uri": "https://localhost:8080/"
        },
        "id": "nh9Qbu0sALwt",
        "outputId": "244c30c1-99e4-4777-bf5d-2ff0965f9194"
      },
      "execution_count": null,
      "outputs": [
        {
          "output_type": "stream",
          "name": "stdout",
          "text": [
            "Epoch 1/3\n",
            "562/562 [==============================] - 15s 6ms/step - loss: 0.9121 - accuracy: 0.6388 - val_loss: 0.6782 - val_accuracy: 0.7417\n",
            "Epoch 2/3\n",
            "562/562 [==============================] - 3s 6ms/step - loss: 0.6510 - accuracy: 0.7571 - val_loss: 0.6250 - val_accuracy: 0.7763\n",
            "Epoch 3/3\n",
            "562/562 [==============================] - 3s 6ms/step - loss: 0.6123 - accuracy: 0.7766 - val_loss: 0.5944 - val_accuracy: 0.7872\n"
          ]
        }
      ]
    },
    {
      "cell_type": "code",
      "source": [
        "model_1_history = model_1.fit(train_dataset,\n",
        "                              steps_per_epoch = int(0.1 * len(train_dataset)),\n",
        "                              epochs = 10,\n",
        "                              validation_data = valid_dataset,\n",
        "                              validation_steps = int(0.1 * len(valid_dataset)))"
      ],
      "metadata": {
        "colab": {
          "base_uri": "https://localhost:8080/"
        },
        "id": "mGMZgGcxBH-q",
        "outputId": "d6fe4c35-5fa2-4503-b30e-7fcf75910cc9"
      },
      "execution_count": null,
      "outputs": [
        {
          "output_type": "stream",
          "name": "stdout",
          "text": [
            "Epoch 1/10\n",
            "562/562 [==============================] - 3s 6ms/step - loss: 0.5124 - accuracy: 0.8221 - val_loss: 0.5866 - val_accuracy: 0.7892\n",
            "Epoch 2/10\n",
            "562/562 [==============================] - 3s 6ms/step - loss: 0.4487 - accuracy: 0.8416 - val_loss: 0.5963 - val_accuracy: 0.7852\n",
            "Epoch 3/10\n",
            "562/562 [==============================] - 3s 6ms/step - loss: 0.4366 - accuracy: 0.8463 - val_loss: 0.6068 - val_accuracy: 0.7789\n",
            "Epoch 4/10\n",
            "562/562 [==============================] - 3s 6ms/step - loss: 0.5861 - accuracy: 0.7900 - val_loss: 0.5726 - val_accuracy: 0.7916\n",
            "Epoch 5/10\n",
            "562/562 [==============================] - 3s 6ms/step - loss: 0.5834 - accuracy: 0.7930 - val_loss: 0.5527 - val_accuracy: 0.8005\n",
            "Epoch 6/10\n",
            "562/562 [==============================] - 3s 6ms/step - loss: 0.5708 - accuracy: 0.7938 - val_loss: 0.5478 - val_accuracy: 0.8009\n",
            "Epoch 7/10\n",
            "562/562 [==============================] - 3s 6ms/step - loss: 0.5494 - accuracy: 0.8027 - val_loss: 0.5367 - val_accuracy: 0.8098\n",
            "Epoch 8/10\n",
            "562/562 [==============================] - 3s 6ms/step - loss: 0.5310 - accuracy: 0.8141 - val_loss: 0.5211 - val_accuracy: 0.8168\n",
            "Epoch 9/10\n",
            "562/562 [==============================] - 3s 6ms/step - loss: 0.5342 - accuracy: 0.8111 - val_loss: 0.5446 - val_accuracy: 0.7999\n",
            "Epoch 10/10\n",
            "562/562 [==============================] - 3s 6ms/step - loss: 0.5351 - accuracy: 0.8081 - val_loss: 0.5216 - val_accuracy: 0.8092\n"
          ]
        }
      ]
    },
    {
      "cell_type": "code",
      "source": [
        "model_1.evaluate(valid_dataset)"
      ],
      "metadata": {
        "colab": {
          "base_uri": "https://localhost:8080/"
        },
        "id": "BbbNZMvEB47c",
        "outputId": "aea8af02-7c3c-436c-d396-e8921cd53621"
      },
      "execution_count": null,
      "outputs": [
        {
          "output_type": "stream",
          "name": "stdout",
          "text": [
            "945/945 [==============================] - 3s 3ms/step - loss: 0.5183 - accuracy: 0.8142\n"
          ]
        },
        {
          "output_type": "execute_result",
          "data": {
            "text/plain": [
              "[0.5182808637619019, 0.8142459988594055]"
            ]
          },
          "metadata": {},
          "execution_count": 50
        }
      ]
    },
    {
      "cell_type": "code",
      "source": [
        "model_1_pred_probs = model_1.predict(val_sentences)\n"
      ],
      "metadata": {
        "id": "PUUdXjxMCVGX"
      },
      "execution_count": null,
      "outputs": []
    },
    {
      "cell_type": "code",
      "source": [
        "model_1_pred_probs"
      ],
      "metadata": {
        "colab": {
          "base_uri": "https://localhost:8080/"
        },
        "id": "d7A1DrpcDAKY",
        "outputId": "559d2eea-004c-4576-cfc7-b25eea0299b5"
      },
      "execution_count": null,
      "outputs": [
        {
          "output_type": "execute_result",
          "data": {
            "text/plain": [
              "array([[5.8314604e-01, 9.8013006e-02, 1.1343796e-01, 1.5973660e-01,\n",
              "        4.5666382e-02],\n",
              "       [4.8367018e-01, 2.6245981e-01, 1.4903126e-02, 2.0440808e-01,\n",
              "        3.4558848e-02],\n",
              "       [1.7438562e-01, 5.0688926e-03, 1.5458276e-03, 8.1891930e-01,\n",
              "        8.0333106e-05],\n",
              "       ...,\n",
              "       [4.2336123e-06, 1.2230979e-04, 2.5369814e-03, 4.5328329e-06,\n",
              "        9.9733198e-01],\n",
              "       [7.8159176e-02, 5.2544206e-01, 1.3685213e-01, 4.5528833e-02,\n",
              "        2.1401779e-01],\n",
              "       [1.8394575e-02, 9.6430278e-01, 1.3088840e-02, 9.3090831e-04,\n",
              "        3.2828168e-03]], dtype=float32)"
            ]
          },
          "metadata": {},
          "execution_count": 52
        }
      ]
    },
    {
      "cell_type": "code",
      "source": [
        "model_1_preds = tf.argmax(model_1_pred_probs, axis = 1)\n",
        "model_1_preds"
      ],
      "metadata": {
        "colab": {
          "base_uri": "https://localhost:8080/"
        },
        "id": "x6h5jZrgDD0N",
        "outputId": "598001f1-87ff-4e25-8f7b-b4004c2a6adb"
      },
      "execution_count": null,
      "outputs": [
        {
          "output_type": "execute_result",
          "data": {
            "text/plain": [
              "<tf.Tensor: shape=(30212,), dtype=int64, numpy=array([0, 0, 3, ..., 4, 1, 1])>"
            ]
          },
          "metadata": {},
          "execution_count": 53
        }
      ]
    },
    {
      "cell_type": "code",
      "source": [
        "model_1_results = calculate_results(y_true = val_labels_encoded, y_pred = model_1_preds)\n",
        "model_1_results"
      ],
      "metadata": {
        "colab": {
          "base_uri": "https://localhost:8080/"
        },
        "id": "4A3ahQX5fkOC",
        "outputId": "6f473473-822d-4cbc-c595-47a849b0e2ae"
      },
      "execution_count": null,
      "outputs": [
        {
          "output_type": "execute_result",
          "data": {
            "text/plain": [
              "{'accuracy': 81.42459949688865,\n",
              " 'f1': 0.8109578148437292,\n",
              " 'precision': 0.8103560542117628,\n",
              " 'recall': 0.8142459949688865}"
            ]
          },
          "metadata": {},
          "execution_count": 54
        }
      ]
    },
    {
      "cell_type": "code",
      "source": [
        "import tensorflow_hub as hub\n",
        "tf_hub_embedding_layer = hub.KerasLayer(\"https://tfhub.dev/google/universal-sentence-encoder/4\",\n",
        "                                        trainable = False,\n",
        "                                        name = \"universal_sentence_encoder\")\n"
      ],
      "metadata": {
        "id": "q8Zdmdykf49v"
      },
      "execution_count": null,
      "outputs": []
    },
    {
      "cell_type": "code",
      "source": [
        "random_training_sentence = random.choice(train_sentences)\n",
        "print(f\"Random training sentence:\\n{random_training_sentence}\\n\")\n",
        "use_embedded_sentence = tf_hub_embedding_layer([random_training_sentence])"
      ],
      "metadata": {
        "colab": {
          "base_uri": "https://localhost:8080/"
        },
        "id": "f3IIJowv31qQ",
        "outputId": "81183e41-d456-429e-f92d-e918385f8bfa"
      },
      "execution_count": null,
      "outputs": [
        {
          "output_type": "stream",
          "name": "stdout",
          "text": [
            "Random training sentence:\n",
            "metatarsus adductus is a common pediatric foot deformity related to intrauterine molding .\n",
            "\n"
          ]
        }
      ]
    },
    {
      "cell_type": "code",
      "source": [
        "use_embedded_sentence.shape"
      ],
      "metadata": {
        "colab": {
          "base_uri": "https://localhost:8080/"
        },
        "id": "jw5jRiy64R2m",
        "outputId": "27d4239c-9e3a-4a3a-aef2-5c86983c3399"
      },
      "execution_count": null,
      "outputs": [
        {
          "output_type": "execute_result",
          "data": {
            "text/plain": [
              "TensorShape([1, 512])"
            ]
          },
          "metadata": {},
          "execution_count": 57
        }
      ]
    },
    {
      "cell_type": "code",
      "source": [
        "print(f\"Sentence after embedding:\\n{use_embedded_sentence}\")"
      ],
      "metadata": {
        "colab": {
          "base_uri": "https://localhost:8080/"
        },
        "id": "HHgeDQi94eno",
        "outputId": "8694ec51-7508-49d3-8a2b-abc858833134"
      },
      "execution_count": null,
      "outputs": [
        {
          "output_type": "stream",
          "name": "stdout",
          "text": [
            "Sentence after embedding:\n",
            "[[ 0.01957086  0.08954732 -0.01761952  0.04193586 -0.05153193 -0.04189713\n",
            "   0.0116812   0.01661068  0.02446553  0.0102042   0.06820686  0.08281638\n",
            "  -0.03082899  0.0632665   0.08031683 -0.05631074 -0.09380297 -0.04544327\n",
            "  -0.07376179 -0.04736659 -0.08101864  0.00674424  0.059961   -0.03385213\n",
            "   0.05389145 -0.01615187  0.01146602  0.01931871 -0.0062017   0.06874909\n",
            "  -0.03956238  0.08879916 -0.02741722  0.07104471 -0.0278207  -0.05533249\n",
            "  -0.06330281  0.09008925 -0.06594521 -0.01992238  0.01554852 -0.02986084\n",
            "   0.05221952  0.0546467   0.00924512 -0.03150042 -0.02100791 -0.00481115\n",
            "   0.01355759  0.03569749  0.03637778 -0.02997683  0.02317179 -0.06750373\n",
            "   0.07688599 -0.08273236  0.05529003 -0.05196289  0.07793091  0.01980902\n",
            "  -0.03748023 -0.04052385 -0.02550196  0.04486858 -0.06900846 -0.07005762\n",
            "   0.0534706  -0.02571663  0.002371    0.00863319 -0.0264296   0.0277202\n",
            "   0.04342524 -0.053192   -0.06285149 -0.0048966  -0.04324923  0.03811843\n",
            "   0.04876234 -0.00976113 -0.06034793  0.00359192  0.06706546 -0.06601188\n",
            "   0.02299598  0.00907571  0.0417807  -0.02088893  0.02038957 -0.03230781\n",
            "  -0.06769302  0.03774251  0.04085069 -0.01584129 -0.04929853 -0.04724627\n",
            "  -0.02335434 -0.02835358  0.02985167  0.0375288  -0.07904751  0.04529027\n",
            "   0.06068949  0.01419103  0.01174389 -0.00158152 -0.0064821  -0.02463797\n",
            "  -0.06484875  0.01564053  0.03122854 -0.06428005 -0.01846337  0.01149792\n",
            "   0.05975178 -0.0272798   0.0007897   0.05180314  0.03971013  0.02439643\n",
            "  -0.04273842 -0.05247685  0.05350896 -0.00602085 -0.00933527  0.05649856\n",
            "  -0.0519825   0.00257149 -0.00179869 -0.05220347 -0.01985253  0.09409639\n",
            "   0.06110804  0.05506196  0.0192419  -0.0016512   0.03424878  0.01468859\n",
            "  -0.02381545  0.02044787 -0.06625874  0.08662589 -0.03515561 -0.07373956\n",
            "  -0.02000428 -0.07603349  0.03123674 -0.04199476  0.00901881  0.07099955\n",
            "  -0.06299911 -0.05941433 -0.04519234  0.00585754 -0.0050576   0.01738177\n",
            "   0.01399237 -0.01200368 -0.06170848 -0.07690553 -0.00276054  0.00444904\n",
            "   0.01184624 -0.05765938  0.01338599  0.02152771 -0.07092874  0.03729984\n",
            "  -0.00577889 -0.01596756 -0.03891257 -0.04392525  0.04075004  0.04858528\n",
            "   0.00964988  0.0425039   0.0367907   0.04243207  0.07856364  0.03867161\n",
            "  -0.02188081  0.04834295 -0.00217526 -0.02083032 -0.07698565 -0.05241542\n",
            "  -0.05062084  0.01924795 -0.00902898 -0.02416566 -0.07641876  0.028318\n",
            "  -0.00721746 -0.02929205  0.03435311  0.02534853 -0.06583491 -0.08342755\n",
            "  -0.01701012  0.05412903  0.04238635 -0.03118632 -0.02447527 -0.01009285\n",
            "   0.03148796  0.00619647  0.02722032  0.07792858 -0.00589021  0.01632634\n",
            "   0.05418113  0.02674591  0.00579423  0.02915842 -0.04646397  0.0545577\n",
            "   0.02381732  0.0573324  -0.03909324  0.09003461 -0.08422428  0.00766455\n",
            "  -0.00266284 -0.04151268  0.05874179 -0.00803572  0.0329501   0.0609503\n",
            "  -0.06473248  0.04209743 -0.01998476  0.00652485 -0.01513519 -0.04305659\n",
            "   0.05983948 -0.04112418 -0.03066362  0.04649432 -0.01333427 -0.01365321\n",
            "  -0.03455571 -0.04021921 -0.01873906 -0.04727636  0.01242243  0.00990467\n",
            "  -0.05759396  0.01265068 -0.027712   -0.08146599  0.04551631 -0.00995062\n",
            "  -0.05731947 -0.02886852 -0.00730847  0.06594404 -0.00079973  0.03874684\n",
            "  -0.02652788  0.02929918 -0.03214394  0.02181176 -0.02851197  0.08504303\n",
            "  -0.03626088 -0.01379551 -0.06899402 -0.04850094  0.03026449  0.00477673\n",
            "  -0.06269057  0.05251081 -0.0211375   0.00274357 -0.08921784 -0.0500516\n",
            "  -0.07235237  0.01250101 -0.02812791 -0.03961097  0.00633759  0.0688777\n",
            "   0.05815598 -0.07097053  0.03928106  0.01449976 -0.00145561  0.00042209\n",
            "  -0.04577707  0.03521949 -0.02219583 -0.04030516 -0.0335188   0.03252073\n",
            "  -0.06732298 -0.04809769  0.01639491 -0.05468457 -0.08400894  0.00120299\n",
            "  -0.05122733 -0.04521698  0.02773876 -0.05611512 -0.06682576 -0.04650849\n",
            "  -0.0068164   0.03803138  0.04722774 -0.01158178 -0.06651888  0.05278638\n",
            "   0.01567794 -0.04595082 -0.07006415  0.02691628  0.0331326  -0.00492572\n",
            "  -0.01633211  0.07506622 -0.06932224  0.00824634 -0.03480085 -0.0511357\n",
            "   0.01114459  0.0286223  -0.07397287 -0.02923896  0.03227289 -0.05118823\n",
            "   0.03456532 -0.0134306   0.0012642   0.02171657 -0.02362464  0.00059518\n",
            "   0.02619122  0.04229685  0.04066901  0.00894428 -0.05200322 -0.05956902\n",
            "   0.0278126  -0.01041684  0.02688926  0.08359204  0.07687952 -0.07772994\n",
            "  -0.03594743  0.03767167 -0.01335367 -0.02197474  0.00883473 -0.06036822\n",
            "   0.01641542 -0.03779118 -0.07662033 -0.05590115 -0.04340656 -0.0591604\n",
            "  -0.01256847 -0.07473843 -0.04395084 -0.02467102  0.01536686  0.01034586\n",
            "  -0.03637901 -0.00494601  0.05472495 -0.051578   -0.03652967  0.01020079\n",
            "  -0.03115343  0.00894155 -0.023258    0.00274938 -0.01517302  0.01282319\n",
            "   0.05521651 -0.00759074  0.09305223  0.00087549 -0.0233338  -0.02022741\n",
            "  -0.03935515 -0.03480283 -0.05660785  0.01597815  0.05053919 -0.02397225\n",
            "   0.00293668 -0.02199848 -0.05002479 -0.02796274  0.01527484 -0.01384418\n",
            "   0.03226756  0.0586704   0.05698703  0.0298252   0.05249213 -0.05072403\n",
            "   0.03141625  0.03773667  0.07527497  0.06593472 -0.00166525  0.0396852\n",
            "   0.03038916 -0.0139685  -0.00789248  0.02406214  0.00306804  0.01592704\n",
            "   0.04043958  0.09065128 -0.01152619 -0.04461971  0.03480529  0.02804287\n",
            "  -0.03865129 -0.03050387  0.03458373  0.01627247  0.07448224  0.048131\n",
            "  -0.02481474 -0.08248837  0.03879368  0.03330696 -0.00892428 -0.06620883\n",
            "  -0.05814323 -0.08289149 -0.01234821  0.02803981 -0.01181725  0.00387856\n",
            "  -0.04036615  0.01455573 -0.05774077 -0.01710967 -0.06415631 -0.05397844\n",
            "   0.00485027 -0.00548506 -0.04710032  0.00219872 -0.00858259  0.05618534\n",
            "   0.01607654  0.0196855   0.06117309  0.0315634  -0.00716114 -0.00247525\n",
            "  -0.06047356  0.07703559 -0.00438034  0.0534103  -0.09236425  0.03457633\n",
            "   0.03967819  0.00273603  0.08051584 -0.00034396  0.06496355  0.00156564\n",
            "  -0.07506599 -0.06926968  0.06287772  0.05396359 -0.08639121  0.02653282\n",
            "   0.0392168   0.00687397  0.00821634  0.0249399  -0.0018576  -0.07313524\n",
            "   0.00815776  0.02757236 -0.01001787  0.00057747 -0.07261707 -0.01671311\n",
            "   0.03577746  0.00908059 -0.03160043  0.06128781 -0.0374923  -0.05955745\n",
            "   0.06141972 -0.04895695  0.06842182  0.01852269 -0.07282653 -0.01216717\n",
            "  -0.01374816 -0.04788204  0.00572629  0.02013792 -0.01561133  0.05530243\n",
            "   0.06361717 -0.09424464  0.01902852  0.02865251 -0.06264448 -0.04417432\n",
            "  -0.02255045 -0.05799829]]\n"
          ]
        }
      ]
    },
    {
      "cell_type": "markdown",
      "source": [
        "### Building model with NLP feature extraction model"
      ],
      "metadata": {
        "id": "KpkRBbxg4r-Z"
      }
    },
    {
      "cell_type": "code",
      "source": [
        "inputs = layers.Input(shape = [], dtype = tf.string)\n",
        "\n",
        "pretrained_embedding = tf_hub_embedding_layer(inputs)\n",
        "x = layers.Dense(128, activation = \"relu\")(pretrained_embedding)\n",
        "outputs = layers.Dense(5, activation = \"softmax\")(x)\n",
        "\n",
        "model_2 = tf.keras.Model(inputs,outputs)\n",
        "\n",
        "model_2.compile(loss = \"categorical_crossentropy\",\n",
        "                metrics = ['accuracy'],\n",
        "                optimizer = tf.keras.optimizers.Adam())"
      ],
      "metadata": {
        "id": "nfuR2EKH49LL"
      },
      "execution_count": null,
      "outputs": []
    },
    {
      "cell_type": "code",
      "source": [
        "model_2.summary()"
      ],
      "metadata": {
        "colab": {
          "base_uri": "https://localhost:8080/"
        },
        "id": "lRWVCQlG5vGu",
        "outputId": "41c05861-d73c-4251-c388-43a40f9c404a"
      },
      "execution_count": null,
      "outputs": [
        {
          "output_type": "stream",
          "name": "stdout",
          "text": [
            "Model: \"model_1\"\n",
            "_________________________________________________________________\n",
            " Layer (type)                Output Shape              Param #   \n",
            "=================================================================\n",
            " input_2 (InputLayer)        [(None,)]                 0         \n",
            "                                                                 \n",
            " universal_sentence_encoder   (None, 512)              256797824 \n",
            " (KerasLayer)                                                    \n",
            "                                                                 \n",
            " dense_1 (Dense)             (None, 128)               65664     \n",
            "                                                                 \n",
            " dense_2 (Dense)             (None, 5)                 645       \n",
            "                                                                 \n",
            "=================================================================\n",
            "Total params: 256,864,133\n",
            "Trainable params: 66,309\n",
            "Non-trainable params: 256,797,824\n",
            "_________________________________________________________________\n"
          ]
        }
      ]
    },
    {
      "cell_type": "code",
      "source": [
        "model_2_history = model_2.fit(train_dataset,\n",
        "            steps_per_epoch=int(0.1 * len(train_dataset)),\n",
        "            epochs=10,\n",
        "            validation_data=valid_dataset,\n",
        "            validation_steps=int(0.1 * len(valid_dataset)))"
      ],
      "metadata": {
        "colab": {
          "base_uri": "https://localhost:8080/"
        },
        "id": "26r3_lYq5yNA",
        "outputId": "a06d0ecc-ef0c-41b2-ce6d-841a9eeac77c"
      },
      "execution_count": null,
      "outputs": [
        {
          "output_type": "stream",
          "name": "stdout",
          "text": [
            "Epoch 1/10\n",
            "562/562 [==============================] - 9s 12ms/step - loss: 0.9178 - accuracy: 0.6530 - val_loss: 0.7954 - val_accuracy: 0.6878\n",
            "Epoch 2/10\n",
            "562/562 [==============================] - 7s 12ms/step - loss: 0.7674 - accuracy: 0.7025 - val_loss: 0.7535 - val_accuracy: 0.7061\n",
            "Epoch 3/10\n",
            "562/562 [==============================] - 7s 12ms/step - loss: 0.7522 - accuracy: 0.7136 - val_loss: 0.7389 - val_accuracy: 0.7118\n",
            "Epoch 4/10\n",
            "562/562 [==============================] - 7s 12ms/step - loss: 0.7195 - accuracy: 0.7238 - val_loss: 0.7118 - val_accuracy: 0.7291\n",
            "Epoch 5/10\n",
            "562/562 [==============================] - 6s 11ms/step - loss: 0.7263 - accuracy: 0.7208 - val_loss: 0.6898 - val_accuracy: 0.7327\n",
            "Epoch 6/10\n",
            "562/562 [==============================] - 6s 12ms/step - loss: 0.7173 - accuracy: 0.7259 - val_loss: 0.6827 - val_accuracy: 0.7370\n",
            "Epoch 7/10\n",
            "562/562 [==============================] - 6s 11ms/step - loss: 0.6842 - accuracy: 0.7395 - val_loss: 0.6648 - val_accuracy: 0.7443\n",
            "Epoch 8/10\n",
            "562/562 [==============================] - 7s 12ms/step - loss: 0.6737 - accuracy: 0.7454 - val_loss: 0.6545 - val_accuracy: 0.7470\n",
            "Epoch 9/10\n",
            "562/562 [==============================] - 6s 11ms/step - loss: 0.6720 - accuracy: 0.7422 - val_loss: 0.6537 - val_accuracy: 0.7477\n",
            "Epoch 10/10\n",
            "562/562 [==============================] - 6s 11ms/step - loss: 0.6661 - accuracy: 0.7477 - val_loss: 0.6485 - val_accuracy: 0.7533\n"
          ]
        }
      ]
    },
    {
      "cell_type": "code",
      "source": [
        "model_2.summary()"
      ],
      "metadata": {
        "colab": {
          "base_uri": "https://localhost:8080/"
        },
        "id": "7W5eKCMb6FAD",
        "outputId": "e0d462e5-54d2-4d20-a6cf-c6b65797f90a"
      },
      "execution_count": null,
      "outputs": [
        {
          "output_type": "stream",
          "name": "stdout",
          "text": [
            "Model: \"model_1\"\n",
            "_________________________________________________________________\n",
            " Layer (type)                Output Shape              Param #   \n",
            "=================================================================\n",
            " input_2 (InputLayer)        [(None,)]                 0         \n",
            "                                                                 \n",
            " universal_sentence_encoder   (None, 512)              256797824 \n",
            " (KerasLayer)                                                    \n",
            "                                                                 \n",
            " dense_1 (Dense)             (None, 128)               65664     \n",
            "                                                                 \n",
            " dense_2 (Dense)             (None, 5)                 645       \n",
            "                                                                 \n",
            "=================================================================\n",
            "Total params: 256,864,133\n",
            "Trainable params: 66,309\n",
            "Non-trainable params: 256,797,824\n",
            "_________________________________________________________________\n"
          ]
        }
      ]
    },
    {
      "cell_type": "code",
      "source": [
        "model_2.evaluate(valid_dataset)"
      ],
      "metadata": {
        "colab": {
          "base_uri": "https://localhost:8080/"
        },
        "id": "ql5vTjA6AMiL",
        "outputId": "7e998ca9-c982-46a3-da17-20dfa15d6347"
      },
      "execution_count": null,
      "outputs": [
        {
          "output_type": "stream",
          "name": "stdout",
          "text": [
            "945/945 [==============================] - 15s 16ms/step - loss: 0.6532 - accuracy: 0.7506\n"
          ]
        },
        {
          "output_type": "execute_result",
          "data": {
            "text/plain": [
              "[0.6531714797019958, 0.7506288886070251]"
            ]
          },
          "metadata": {},
          "execution_count": 63
        }
      ]
    },
    {
      "cell_type": "code",
      "source": [
        "model_2_pred_probs = model_2.predict(val_sentences)\n",
        "model_2_pred_probs"
      ],
      "metadata": {
        "colab": {
          "base_uri": "https://localhost:8080/"
        },
        "id": "U1yd-HiuAeIg",
        "outputId": "bc491368-f5e1-4d58-eb16-9866a38be443"
      },
      "execution_count": null,
      "outputs": [
        {
          "output_type": "execute_result",
          "data": {
            "text/plain": [
              "array([[3.4775996e-01, 5.1955056e-01, 5.6433043e-04, 1.2475245e-01,\n",
              "        7.3727127e-03],\n",
              "       [3.7425631e-01, 5.3511703e-01, 2.2494262e-03, 8.7468788e-02,\n",
              "        9.0837333e-04],\n",
              "       [4.9590975e-01, 4.0497880e-02, 2.5854072e-02, 3.9584160e-01,\n",
              "        4.1896634e-02],\n",
              "       ...,\n",
              "       [9.2517294e-04, 4.8851455e-04, 1.9870849e-02, 1.6115056e-04,\n",
              "        9.7855431e-01],\n",
              "       [4.3608118e-03, 6.4181827e-02, 2.4041805e-01, 1.6229691e-03,\n",
              "        6.8941635e-01],\n",
              "       [5.1823661e-02, 7.8632277e-01, 1.5275487e-01, 1.0317252e-03,\n",
              "        8.0670435e-03]], dtype=float32)"
            ]
          },
          "metadata": {},
          "execution_count": 64
        }
      ]
    },
    {
      "cell_type": "code",
      "source": [
        "model_2_preds = tf.argmax(model_2_pred_probs, axis=1)\n",
        "model_2_preds"
      ],
      "metadata": {
        "colab": {
          "base_uri": "https://localhost:8080/"
        },
        "id": "diM0tZUQAuEo",
        "outputId": "18b8b098-15e4-4376-f793-85a4f75f57d0"
      },
      "execution_count": null,
      "outputs": [
        {
          "output_type": "execute_result",
          "data": {
            "text/plain": [
              "<tf.Tensor: shape=(30212,), dtype=int64, numpy=array([1, 1, 0, ..., 4, 4, 1])>"
            ]
          },
          "metadata": {},
          "execution_count": 65
        }
      ]
    },
    {
      "cell_type": "code",
      "source": [
        "model_2_results = calculate_results(y_true=val_labels_encoded,\n",
        "                                    y_pred=model_2_preds)\n",
        "model_2_results"
      ],
      "metadata": {
        "colab": {
          "base_uri": "https://localhost:8080/"
        },
        "id": "0FPPudGnAzrX",
        "outputId": "de3f88a0-f5e8-4fc6-cb50-378f53c874af"
      },
      "execution_count": null,
      "outputs": [
        {
          "output_type": "execute_result",
          "data": {
            "text/plain": [
              "{'accuracy': 75.0628889183106,\n",
              " 'f1': 0.7458525193581951,\n",
              " 'precision': 0.7461287123421187,\n",
              " 'recall': 0.750628889183106}"
            ]
          },
          "metadata": {},
          "execution_count": 66
        }
      ]
    },
    {
      "cell_type": "markdown",
      "source": [
        "### Conv1D model with character embeddings\n",
        "\n",
        "![image.png](data:image/png;base64,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)"
      ],
      "metadata": {
        "id": "pRY9nVKVA45_"
      }
    },
    {
      "cell_type": "code",
      "source": [
        "def split_chars(text):\n",
        "  return \" \".join(list(text))\n",
        "\n",
        "split_chars(random_training_sentence)"
      ],
      "metadata": {
        "colab": {
          "base_uri": "https://localhost:8080/"
        },
        "id": "iohxFjPoCZhY",
        "outputId": "ab0942d4-7d6f-4ce5-f691-8431884f2728"
      },
      "execution_count": null,
      "outputs": [
        {
          "output_type": "execute_result",
          "data": {
            "text/plain": [
              "'m e t a t a r s u s   a d d u c t u s   i s   a   c o m m o n   p e d i a t r i c   f o o t   d e f o r m i t y   r e l a t e d   t o   i n t r a u t e r i n e   m o l d i n g   .'"
            ],
            "application/vnd.google.colaboratory.intrinsic+json": {
              "type": "string"
            }
          },
          "metadata": {},
          "execution_count": 67
        }
      ]
    },
    {
      "cell_type": "code",
      "source": [
        "train_chars = [split_chars(sentence) for sentence in train_sentences]\n",
        "train_chars[0]"
      ],
      "metadata": {
        "colab": {
          "base_uri": "https://localhost:8080/"
        },
        "id": "YkRAIzZxC8ap",
        "outputId": "e8e12ec3-8b58-4c28-ae2c-a2fb4bab552c"
      },
      "execution_count": null,
      "outputs": [
        {
          "output_type": "execute_result",
          "data": {
            "text/plain": [
              "'t o   i n v e s t i g a t e   t h e   e f f i c a c y   o f   @   w e e k s   o f   d a i l y   l o w - d o s e   o r a l   p r e d n i s o l o n e   i n   i m p r o v i n g   p a i n   ,   m o b i l i t y   ,   a n d   s y s t e m i c   l o w - g r a d e   i n f l a m m a t i o n   i n   t h e   s h o r t   t e r m   a n d   w h e t h e r   t h e   e f f e c t   w o u l d   b e   s u s t a i n e d   a t   @   w e e k s   i n   o l d e r   a d u l t s   w i t h   m o d e r a t e   t o   s e v e r e   k n e e   o s t e o a r t h r i t i s   (   o a   )   .'"
            ],
            "application/vnd.google.colaboratory.intrinsic+json": {
              "type": "string"
            }
          },
          "metadata": {},
          "execution_count": 68
        }
      ]
    },
    {
      "cell_type": "code",
      "source": [
        "val_chars = [split_chars(sentence) for sentence in val_sentences]\n",
        "test_chars = [split_chars(sentence) for sentence in test_sentences]"
      ],
      "metadata": {
        "id": "9FXnrynnDsdV"
      },
      "execution_count": null,
      "outputs": []
    },
    {
      "cell_type": "code",
      "source": [
        "char_lens = [len(sentence) for sentence in train_sentences]\n",
        "mean_char_len = np.mean(char_lens)\n",
        "mean_char_len"
      ],
      "metadata": {
        "id": "T6-TUAKLDyIc",
        "colab": {
          "base_uri": "https://localhost:8080/"
        },
        "outputId": "290802ef-9950-4cfe-b985-5f9506af1774"
      },
      "execution_count": null,
      "outputs": [
        {
          "output_type": "execute_result",
          "data": {
            "text/plain": [
              "149.3662574983337"
            ]
          },
          "metadata": {},
          "execution_count": 70
        }
      ]
    },
    {
      "cell_type": "code",
      "source": [
        "import matplotlib.pyplot as plt\n",
        "plt.hist(char_lens, bins=7)\n"
      ],
      "metadata": {
        "colab": {
          "base_uri": "https://localhost:8080/"
        },
        "id": "LUdCTMMK0B41",
        "outputId": "8fb6c70d-51d5-4205-f247-2c59010a9c22"
      },
      "execution_count": null,
      "outputs": [
        {
          "output_type": "execute_result",
          "data": {
            "text/plain": [
              "(array([1.41175e+05, 3.71110e+04, 1.60000e+03, 1.27000e+02, 2.10000e+01,\n",
              "        5.00000e+00, 1.00000e+00]),\n",
              " array([1.00000000e+00, 1.98857143e+02, 3.96714286e+02, 5.94571429e+02,\n",
              "        7.92428571e+02, 9.90285714e+02, 1.18814286e+03, 1.38600000e+03]),\n",
              " <a list of 7 Patch objects>)"
            ]
          },
          "metadata": {},
          "execution_count": 71
        },
        {
          "output_type": "display_data",
          "data": {
            "text/plain": [
              "<Figure size 432x288 with 1 Axes>"
            ],
            "image/png": "[encoded data removed]"
          },
          "metadata": {
            "needs_background": "light"
          }
        }
      ]
    },
    {
      "cell_type": "code",
      "source": [
        "output_seq_char_len = int(np.percentile(char_lens, 95))\n",
        "output_seq_char_len"
      ],
      "metadata": {
        "colab": {
          "base_uri": "https://localhost:8080/"
        },
        "id": "6WtCYZtW0VVx",
        "outputId": "d26a429d-d79a-4be0-ab74-e55df4576c5c"
      },
      "execution_count": null,
      "outputs": [
        {
          "output_type": "execute_result",
          "data": {
            "text/plain": [
              "290"
            ]
          },
          "metadata": {},
          "execution_count": 72
        }
      ]
    },
    {
      "cell_type": "code",
      "source": [
        "import string\n",
        "alphabet = string.ascii_lowercase + string.digits + string.punctuation\n",
        "alphabet"
      ],
      "metadata": {
        "colab": {
          "base_uri": "https://localhost:8080/"
        },
        "id": "aPtu9hIH0elW",
        "outputId": "f4e33116-c35e-435a-be74-b51f59489de7"
      },
      "execution_count": null,
      "outputs": [
        {
          "output_type": "execute_result",
          "data": {
            "text/plain": [
              "'abcdefghijklmnopqrstuvwxyz0123456789!\"#$%&\\'()*+,-./:;<=>?@[\\\\]^_`{|}~'"
            ],
            "application/vnd.google.colaboratory.intrinsic+json": {
              "type": "string"
            }
          },
          "metadata": {},
          "execution_count": 73
        }
      ]
    },
    {
      "cell_type": "code",
      "source": [
        "NUM_CHAR_TOKENS = len(alphabet) + 2\n",
        "char_vectorizer = TextVectorization(max_tokens = NUM_CHAR_TOKENS,\n",
        "                                    output_sequence_length = output_seq_char_len,\n",
        "                                    standardize = \"lower_and_strip_punctuation\",\n",
        "                                    name = 'char_vectorizer')\n",
        "char_vectorizer.adapt(train_chars)"
      ],
      "metadata": {
        "id": "YUdoGkVI03Yt"
      },
      "execution_count": null,
      "outputs": []
    },
    {
      "cell_type": "code",
      "source": [
        "char_vocab = char_vectorizer.get_vocabulary()\n",
        "print(f\"Number of different characters in character vocab: {len(char_vocab)}\")\n",
        "print(f\"5 most common characters: {char_vocab[:5]}\")\n",
        "print(f\"5 least common characters: {char_vocab[-5:]}\")"
      ],
      "metadata": {
        "colab": {
          "base_uri": "https://localhost:8080/"
        },
        "id": "4ybG3m6G4a6l",
        "outputId": "fe6e957d-24fa-4c7b-fd11-f98c7dfce086"
      },
      "execution_count": null,
      "outputs": [
        {
          "output_type": "stream",
          "name": "stdout",
          "text": [
            "Number of different characters in character vocab: 28\n",
            "5 most common characters: ['', '[UNK]', 'e', 't', 'i']\n",
            "5 least common characters: ['k', 'x', 'z', 'q', 'j']\n"
          ]
        }
      ]
    },
    {
      "cell_type": "code",
      "source": [
        "\n",
        "random_train_chars = random.choice(train_chars)\n",
        "print(f\"Charified text:\\n{random_train_chars}\")\n",
        "print(f\"\\nLength of chars: {len(random_train_chars.split())}\")\n",
        "vectorized_chars = char_vectorizer([random_train_chars])\n",
        "print(f\"\\nVectorized chars:\\n{vectorized_chars}\")\n",
        "print(f\"\\nLength of vectorized chars: {len(vectorized_chars[0])}\")"
      ],
      "metadata": {
        "colab": {
          "base_uri": "https://localhost:8080/"
        },
        "id": "kfSWHSBE5QTZ",
        "outputId": "86b6aedf-27cc-4903-d6d7-bd7298ac8c47"
      },
      "execution_count": null,
      "outputs": [
        {
          "output_type": "stream",
          "name": "stdout",
          "text": [
            "Charified text:\n",
            "b a   c a n   a f f e c t   o u t c o m e   a f t e r   b i f u r c a t i o n   p c i   ;   @ d   a n g i o g r a p h i c   a n a l y s i s   p r o v i d e s   r e l i a b l e   b a   m e a s u r e m e n t s   .\n",
            "\n",
            "Length of chars: 91\n",
            "\n",
            "Vectorized chars:\n",
            "[[22  5 11  5  6  5 17 17  2 11  3  7 16  3 11  7 15  2  5 17  3  2  8 22\n",
            "   4 17 16  8 11  5  3  4  7  6 14 11  4 10  5  6 18  4  7 18  8  5 14 13\n",
            "   4 11  5  6  5 12 19  9  4  9 14  8  7 21  4 10  2  9  8  2 12  4  5 22\n",
            "  12  2 22  5 15  2  5  9 16  8  2 15  2  6  3  9  0  0  0  0  0  0  0  0\n",
            "   0  0  0  0  0  0  0  0  0  0  0  0  0  0  0  0  0  0  0  0  0  0  0  0\n",
            "   0  0  0  0  0  0  0  0  0  0  0  0  0  0  0  0  0  0  0  0  0  0  0  0\n",
            "   0  0  0  0  0  0  0  0  0  0  0  0  0  0  0  0  0  0  0  0  0  0  0  0\n",
            "   0  0  0  0  0  0  0  0  0  0  0  0  0  0  0  0  0  0  0  0  0  0  0  0\n",
            "   0  0  0  0  0  0  0  0  0  0  0  0  0  0  0  0  0  0  0  0  0  0  0  0\n",
            "   0  0  0  0  0  0  0  0  0  0  0  0  0  0  0  0  0  0  0  0  0  0  0  0\n",
            "   0  0  0  0  0  0  0  0  0  0  0  0  0  0  0  0  0  0  0  0  0  0  0  0\n",
            "   0  0  0  0  0  0  0  0  0  0  0  0  0  0  0  0  0  0  0  0  0  0  0  0\n",
            "   0  0]]\n",
            "\n",
            "Length of vectorized chars: 290\n"
          ]
        }
      ]
    },
    {
      "cell_type": "code",
      "source": [
        "char_embed = layers.Embedding(input_dim = NUM_CHAR_TOKENS,\n",
        "                              output_dim = 25,\n",
        "                              mask_zero = False,\n",
        "                              name = 'char_embed')\n",
        "print(f\"Charified text (before vectorization and embedding):\\n{random_train_chars}\\n\")\n",
        "char_embed_example = char_embed(char_vectorizer([random_train_chars]))\n",
        "print(f\"Embedded chars (after vectorization and embedding):\\n{char_embed_example}\\n\")\n",
        "print(f\"Character embedding shape: {char_embed_example.shape}\")"
      ],
      "metadata": {
        "colab": {
          "base_uri": "https://localhost:8080/"
        },
        "id": "ex5S-58c5hKH",
        "outputId": "2b18c986-2452-45a0-e5c9-ef0e2dda8c5f"
      },
      "execution_count": null,
      "outputs": [
        {
          "output_type": "stream",
          "name": "stdout",
          "text": [
            "Charified text (before vectorization and embedding):\n",
            "b a   c a n   a f f e c t   o u t c o m e   a f t e r   b i f u r c a t i o n   p c i   ;   @ d   a n g i o g r a p h i c   a n a l y s i s   p r o v i d e s   r e l i a b l e   b a   m e a s u r e m e n t s   .\n",
            "\n",
            "Embedded chars (after vectorization and embedding):\n",
            "[[[ 0.01112474  0.03134895 -0.01081488 ... -0.03502323 -0.04227835\n",
            "    0.01871593]\n",
            "  [ 0.03765715 -0.04736936  0.03247071 ... -0.04509039 -0.02425269\n",
            "    0.03038658]\n",
            "  [ 0.00924825 -0.02854488 -0.04508573 ... -0.03506434 -0.02848865\n",
            "   -0.0113415 ]\n",
            "  ...\n",
            "  [ 0.01904103 -0.01485657 -0.04216234 ... -0.02119598 -0.02951763\n",
            "   -0.01226204]\n",
            "  [ 0.01904103 -0.01485657 -0.04216234 ... -0.02119598 -0.02951763\n",
            "   -0.01226204]\n",
            "  [ 0.01904103 -0.01485657 -0.04216234 ... -0.02119598 -0.02951763\n",
            "   -0.01226204]]]\n",
            "\n",
            "Character embedding shape: (1, 290, 25)\n"
          ]
        }
      ]
    },
    {
      "cell_type": "code",
      "source": [
        "inputs = layers.Input(shape=(1,), dtype=\"string\")\n",
        "char_vectors = char_vectorizer(inputs)\n",
        "char_embeddings = char_embed(char_vectors)\n",
        "x = layers.Conv1D(64, kernel_size=5, padding=\"same\", activation=\"relu\")(char_embeddings)\n",
        "x = layers.GlobalMaxPool1D()(x)\n",
        "outputs = layers.Dense(num_classes, activation=\"softmax\")(x)\n",
        "model_3 = tf.keras.Model(inputs=inputs,\n",
        "                         outputs=outputs,\n",
        "                         name=\"model_3_conv1D_char_embedding\")\n",
        "\n",
        "# Compile model\n",
        "model_3.compile(loss=\"categorical_crossentropy\",\n",
        "                optimizer=tf.keras.optimizers.Adam(),\n",
        "                metrics=[\"accuracy\"])"
      ],
      "metadata": {
        "id": "jDeeiAWL7aU9"
      },
      "execution_count": null,
      "outputs": []
    },
    {
      "cell_type": "code",
      "source": [
        "model_3.summary()"
      ],
      "metadata": {
        "colab": {
          "base_uri": "https://localhost:8080/"
        },
        "id": "og5ik6e986jR",
        "outputId": "c35b5c95-ebef-4442-8071-f0c4a630ddd5"
      },
      "execution_count": null,
      "outputs": [
        {
          "output_type": "stream",
          "name": "stdout",
          "text": [
            "Model: \"model_3_conv1D_char_embedding\"\n",
            "_________________________________________________________________\n",
            " Layer (type)                Output Shape              Param #   \n",
            "=================================================================\n",
            " input_3 (InputLayer)        [(None, 1)]               0         \n",
            "                                                                 \n",
            " char_vectorizer (TextVector  (None, 290)              0         \n",
            " ization)                                                        \n",
            "                                                                 \n",
            " char_embed (Embedding)      (None, 290, 25)           1750      \n",
            "                                                                 \n",
            " conv1d_1 (Conv1D)           (None, 290, 64)           8064      \n",
            "                                                                 \n",
            " global_max_pooling1d (Globa  (None, 64)               0         \n",
            " lMaxPooling1D)                                                  \n",
            "                                                                 \n",
            " dense_3 (Dense)             (None, 5)                 325       \n",
            "                                                                 \n",
            "=================================================================\n",
            "Total params: 10,139\n",
            "Trainable params: 10,139\n",
            "Non-trainable params: 0\n",
            "_________________________________________________________________\n"
          ]
        }
      ]
    },
    {
      "cell_type": "code",
      "source": [
        "train_char_dataset = tf.data.Dataset.from_tensor_slices((train_chars, train_labels_one_hot)).batch(32).prefetch(tf.data.AUTOTUNE)\n",
        "val_char_dataset = tf.data.Dataset.from_tensor_slices((val_chars, val_labels_one_hot)).batch(32).prefetch(tf.data.AUTOTUNE)\n",
        "\n",
        "train_char_dataset"
      ],
      "metadata": {
        "colab": {
          "base_uri": "https://localhost:8080/"
        },
        "id": "ApHAiwrR9FHA",
        "outputId": "07748475-6ce5-4911-e5fd-b39d8a963191"
      },
      "execution_count": null,
      "outputs": [
        {
          "output_type": "execute_result",
          "data": {
            "text/plain": [
              "<PrefetchDataset element_spec=(TensorSpec(shape=(None,), dtype=tf.string, name=None), TensorSpec(shape=(None, 5), dtype=tf.float64, name=None))>"
            ]
          },
          "metadata": {},
          "execution_count": 80
        }
      ]
    },
    {
      "cell_type": "code",
      "source": [
        "model_3_history = model_3.fit(train_char_dataset,\n",
        "                              steps_per_epoch=int(0.1 * len(train_char_dataset)),\n",
        "                              epochs=10,\n",
        "                              validation_data=val_char_dataset,\n",
        "                              validation_steps=int(0.1 * len(val_char_dataset)))"
      ],
      "metadata": {
        "colab": {
          "base_uri": "https://localhost:8080/"
        },
        "id": "TDG_qaUx99JW",
        "outputId": "f12e02b0-937c-48af-e80e-518325e89b2b"
      },
      "execution_count": null,
      "outputs": [
        {
          "output_type": "stream",
          "name": "stdout",
          "text": [
            "Epoch 1/10\n",
            "562/562 [==============================] - 4s 5ms/step - loss: 1.2506 - accuracy: 0.4917 - val_loss: 1.0543 - val_accuracy: 0.5791\n",
            "Epoch 2/10\n",
            "562/562 [==============================] - 3s 5ms/step - loss: 1.0228 - accuracy: 0.5895 - val_loss: 0.9661 - val_accuracy: 0.6213\n",
            "Epoch 3/10\n",
            "562/562 [==============================] - 3s 5ms/step - loss: 0.9457 - accuracy: 0.6269 - val_loss: 0.8919 - val_accuracy: 0.6569\n",
            "Epoch 4/10\n",
            "562/562 [==============================] - 3s 5ms/step - loss: 0.8861 - accuracy: 0.6580 - val_loss: 0.8542 - val_accuracy: 0.6782\n",
            "Epoch 5/10\n",
            "562/562 [==============================] - 3s 5ms/step - loss: 0.8642 - accuracy: 0.6642 - val_loss: 0.8263 - val_accuracy: 0.6875\n",
            "Epoch 6/10\n",
            "562/562 [==============================] - 3s 5ms/step - loss: 0.8404 - accuracy: 0.6797 - val_loss: 0.7921 - val_accuracy: 0.6945\n",
            "Epoch 7/10\n",
            "562/562 [==============================] - 4s 6ms/step - loss: 0.8262 - accuracy: 0.6822 - val_loss: 0.7798 - val_accuracy: 0.7011\n",
            "Epoch 8/10\n",
            "562/562 [==============================] - 5s 8ms/step - loss: 0.7933 - accuracy: 0.7011 - val_loss: 0.7726 - val_accuracy: 0.7061\n",
            "Epoch 9/10\n",
            "562/562 [==============================] - 5s 9ms/step - loss: 0.7783 - accuracy: 0.7060 - val_loss: 0.7743 - val_accuracy: 0.7061\n",
            "Epoch 10/10\n",
            "562/562 [==============================] - 5s 8ms/step - loss: 0.7839 - accuracy: 0.6994 - val_loss: 0.7382 - val_accuracy: 0.7241\n"
          ]
        }
      ]
    },
    {
      "cell_type": "code",
      "source": [
        "model_3.evaluate(val_char_dataset)"
      ],
      "metadata": {
        "colab": {
          "base_uri": "https://localhost:8080/"
        },
        "id": "wPgCQd6H-L8S",
        "outputId": "abe1e588-e5c0-46ee-fa16-1061797d134f"
      },
      "execution_count": null,
      "outputs": [
        {
          "output_type": "stream",
          "name": "stdout",
          "text": [
            "945/945 [==============================] - 5s 5ms/step - loss: 0.7577 - accuracy: 0.7155\n"
          ]
        },
        {
          "output_type": "execute_result",
          "data": {
            "text/plain": [
              "[0.7576954960823059, 0.715510368347168]"
            ]
          },
          "metadata": {},
          "execution_count": 82
        }
      ]
    },
    {
      "cell_type": "code",
      "source": [
        "model_3_pred_probs = model_3.predict(val_char_dataset)\n",
        "model_3_pred_probs"
      ],
      "metadata": {
        "colab": {
          "base_uri": "https://localhost:8080/"
        },
        "id": "hEEYa1Bm_V0P",
        "outputId": "e84aedd8-e7ee-48fe-bccd-f82a8df7f3df"
      },
      "execution_count": null,
      "outputs": [
        {
          "output_type": "execute_result",
          "data": {
            "text/plain": [
              "array([[0.2949905 , 0.4525005 , 0.01121626, 0.23792951, 0.00336324],\n",
              "       [0.12819879, 0.77970374, 0.00267248, 0.08471695, 0.00470801],\n",
              "       [0.21219814, 0.13365509, 0.05930118, 0.57733274, 0.01751287],\n",
              "       ...,\n",
              "       [0.00462163, 0.02148993, 0.03559697, 0.00306571, 0.9352257 ],\n",
              "       [0.02007607, 0.151781  , 0.05093847, 0.00785238, 0.7693521 ],\n",
              "       [0.11349985, 0.8371836 , 0.02861507, 0.00733084, 0.01337076]],\n",
              "      dtype=float32)"
            ]
          },
          "metadata": {},
          "execution_count": 83
        }
      ]
    },
    {
      "cell_type": "code",
      "source": [
        "model_3_preds = tf.argmax(model_3_pred_probs, axis=1)\n",
        "model_3_preds"
      ],
      "metadata": {
        "colab": {
          "base_uri": "https://localhost:8080/"
        },
        "id": "Lx80y8IO_X_u",
        "outputId": "ff1790c5-fd34-46d0-bde7-c89e3997da92"
      },
      "execution_count": null,
      "outputs": [
        {
          "output_type": "execute_result",
          "data": {
            "text/plain": [
              "<tf.Tensor: shape=(30212,), dtype=int64, numpy=array([1, 1, 3, ..., 4, 4, 1])>"
            ]
          },
          "metadata": {},
          "execution_count": 84
        }
      ]
    },
    {
      "cell_type": "code",
      "source": [
        "model_3_results = calculate_results(y_true=val_labels_encoded,\n",
        "                                        y_pred=model_3_preds)\n",
        "model_3_results"
      ],
      "metadata": {
        "colab": {
          "base_uri": "https://localhost:8080/"
        },
        "id": "FZFtCSyN_bFj",
        "outputId": "f6e3a3b4-7f91-49b1-c29f-a424adb1c6b2"
      },
      "execution_count": null,
      "outputs": [
        {
          "output_type": "execute_result",
          "data": {
            "text/plain": [
              "{'accuracy': 71.55103932212366,\n",
              " 'f1': 0.7087937584294924,\n",
              " 'precision': 0.7070884770687382,\n",
              " 'recall': 0.7155103932212366}"
            ]
          },
          "metadata": {},
          "execution_count": 85
        }
      ]
    },
    {
      "cell_type": "markdown",
      "source": [
        "### Pretrained char embeds plus token embeds"
      ],
      "metadata": {
        "id": "JS-yQIAh_c8T"
      }
    },
    {
      "cell_type": "code",
      "source": [
        "token_inputs = layers.Input(shape = [], dtype = tf.string, name = 'token_input')\n",
        "token_embeddings = tf_hub_embedding_layer(token_inputs)\n",
        "token_output = layers.Dense(128, activation='relu')(token_embeddings)\n",
        "token_model = tf.keras.Model(inputs = token_inputs, outputs = token_output)\n",
        "\n",
        "char_inputs = layers.Input(shape=(1,), dtype = tf.string, name = 'char_input')\n",
        "char_vectors = char_vectorizer(char_inputs)\n",
        "char_embeddings = char_embed(char_vectors)\n",
        "char_bi_lstm = layers.Bidirectional(layers.LSTM(25))(char_embeddings)\n",
        "char_model = tf.keras.Model(inputs=char_inputs,\n",
        "                            outputs = char_bi_lstm)\n",
        "\n",
        "token_char_concat = layers.Concatenate(name = 'token_char_hybrid')([token_model.output, char_model.output])\n",
        "\n",
        "combined_dropout = layers.Dropout(0.2)(token_char_concat)\n",
        "combined_dense = layers.Dense(200, activation=\"relu\")(combined_dropout)\n",
        "final_dropout = layers.Dropout(0.2)(combined_dense)\n",
        "output_layer = layers.Dense(num_classes, activation = \"softmax\")(final_dropout)\n",
        "\n",
        "\n",
        "model_4 = tf.keras.Model(inputs = [token_model.input, char_model.input],\n",
        "                       outputs = output_layer,\n",
        "                       name = 'model_4_token_and_char_embeddings')\n",
        "\n",
        "\n"
      ],
      "metadata": {
        "id": "vZs-UFbhDZNi"
      },
      "execution_count": null,
      "outputs": []
    },
    {
      "cell_type": "code",
      "source": [
        "model_4.summary()"
      ],
      "metadata": {
        "colab": {
          "base_uri": "https://localhost:8080/"
        },
        "id": "Z608CajERf6q",
        "outputId": "cd7dc69c-de0f-4094-aefb-60ed4d835c09"
      },
      "execution_count": null,
      "outputs": [
        {
          "output_type": "stream",
          "name": "stdout",
          "text": [
            "Model: \"model_4_token_and_char_embeddings\"\n",
            "__________________________________________________________________________________________________\n",
            " Layer (type)                   Output Shape         Param #     Connected to                     \n",
            "==================================================================================================\n",
            " char_input (InputLayer)        [(None, 1)]          0           []                               \n",
            "                                                                                                  \n",
            " token_input (InputLayer)       [(None,)]            0           []                               \n",
            "                                                                                                  \n",
            " char_vectorizer (TextVectoriza  (None, 290)         0           ['char_input[0][0]']             \n",
            " tion)                                                                                            \n",
            "                                                                                                  \n",
            " universal_sentence_encoder (Ke  (None, 512)         256797824   ['token_input[0][0]']            \n",
            " rasLayer)                                                                                        \n",
            "                                                                                                  \n",
            " char_embed (Embedding)         (None, 290, 25)      1750        ['char_vectorizer[1][0]']        \n",
            "                                                                                                  \n",
            " dense_4 (Dense)                (None, 128)          65664       ['universal_sentence_encoder[1][0\n",
            "                                                                 ]']                              \n",
            "                                                                                                  \n",
            " bidirectional (Bidirectional)  (None, 50)           10200       ['char_embed[1][0]']             \n",
            "                                                                                                  \n",
            " token_char_hybrid (Concatenate  (None, 178)         0           ['dense_4[0][0]',                \n",
            " )                                                                'bidirectional[0][0]']          \n",
            "                                                                                                  \n",
            " dropout (Dropout)              (None, 178)          0           ['token_char_hybrid[0][0]']      \n",
            "                                                                                                  \n",
            " dense_5 (Dense)                (None, 200)          35800       ['dropout[0][0]']                \n",
            "                                                                                                  \n",
            " dropout_1 (Dropout)            (None, 200)          0           ['dense_5[0][0]']                \n",
            "                                                                                                  \n",
            " dense_6 (Dense)                (None, 5)            1005        ['dropout_1[0][0]']              \n",
            "                                                                                                  \n",
            "==================================================================================================\n",
            "Total params: 256,912,243\n",
            "Trainable params: 114,419\n",
            "Non-trainable params: 256,797,824\n",
            "__________________________________________________________________________________________________\n"
          ]
        }
      ]
    },
    {
      "cell_type": "code",
      "source": [
        "from tensorflow.keras.utils import plot_model\n",
        "plot_model(model_4)"
      ],
      "metadata": {
        "colab": {
          "base_uri": "https://localhost:8080/",
          "height": 833
        },
        "id": "VyQo8oFRRybE",
        "outputId": "c6b2329b-6093-48d7-9922-6b2dc06810ea"
      },
      "execution_count": null,
      "outputs": [
        {
          "output_type": "execute_result",
          "data": {
            "text/plain": [
              "<IPython.core.display.Image object>"
            ],
            "image/png": "[encoded data removed]"
          },
          "metadata": {},
          "execution_count": 88
        }
      ]
    },
    {
      "cell_type": "code",
      "source": [
        "plot_model(model_1)"
      ],
      "metadata": {
        "colab": {
          "base_uri": "https://localhost:8080/",
          "height": 564
        },
        "id": "ljph-mPgR9Is",
        "outputId": "1a751e03-bed3-4634-e18f-705de4519159"
      },
      "execution_count": null,
      "outputs": [
        {
          "output_type": "execute_result",
          "data": {
            "text/plain": [
              "<IPython.core.display.Image object>"
            ],
            "image/png": "[encoded data removed]"
          },
          "metadata": {},
          "execution_count": 89
        }
      ]
    },
    {
      "cell_type": "code",
      "source": [
        "plot_model(model_2)"
      ],
      "metadata": {
        "colab": {
          "base_uri": "https://localhost:8080/",
          "height": 369
        },
        "id": "PaL1Xq8wSMeE",
        "outputId": "da39969e-54e5-41ae-fe4b-f7efd6d84515"
      },
      "execution_count": null,
      "outputs": [
        {
          "output_type": "execute_result",
          "data": {
            "text/plain": [
              "<IPython.core.display.Image object>"
            ],
            "image/png": "[encoded data removed]"
          },
          "metadata": {},
          "execution_count": 90
        }
      ]
    },
    {
      "cell_type": "code",
      "source": [
        "plot_model(model_3)"
      ],
      "metadata": {
        "colab": {
          "base_uri": "https://localhost:8080/",
          "height": 564
        },
        "id": "PFMq3ku1STnL",
        "outputId": "7cc9ee0f-8500-4c19-f1a3-a348f465ab76"
      },
      "execution_count": null,
      "outputs": [
        {
          "output_type": "execute_result",
          "data": {
            "text/plain": [
              "<IPython.core.display.Image object>"
            ],
            "image/png": "[encoded data removed]"
          },
          "metadata": {},
          "execution_count": 91
        }
      ]
    },
    {
      "cell_type": "code",
      "source": [
        "model_4.compile(loss = 'categorical_crossentropy',\n",
        "                optimizer = tf.keras.optimizers.Adam(),\n",
        "                metrics = ['accuracy'])"
      ],
      "metadata": {
        "id": "G0alLkraSXK8"
      },
      "execution_count": null,
      "outputs": []
    },
    {
      "cell_type": "code",
      "source": [
        "train_char_token_data = tf.data.Dataset.from_tensor_slices((train_sentences, train_chars))\n",
        "train_char_token_labels = tf.data.Dataset.from_tensor_slices(train_labels_one_hot)\n",
        "train_char_token_dataset = tf.data.Dataset.zip((train_char_token_data, train_char_token_labels))\n",
        "\n",
        "train_char_token_dataset = train_char_token_dataset.batch(32).prefetch(tf.data.AUTOTUNE)\n",
        "\n"
      ],
      "metadata": {
        "id": "EfCkjPjNSihD"
      },
      "execution_count": null,
      "outputs": []
    },
    {
      "cell_type": "code",
      "source": [
        "val_char_token_data = tf.data.Dataset.from_tensor_slices((val_sentences, val_chars))\n",
        "val_char_token_labels = tf.data.Dataset.from_tensor_slices(val_labels_one_hot)\n",
        "val_char_token_dataset = tf.data.Dataset.zip((val_char_token_data, val_char_token_labels))\n",
        "val_char_token_dataset = val_char_token_dataset.batch(32).prefetch(tf.data.AUTOTUNE)"
      ],
      "metadata": {
        "id": "9LlbUNy4v5_l"
      },
      "execution_count": null,
      "outputs": []
    },
    {
      "cell_type": "code",
      "source": [
        "train_char_token_dataset, val_char_token_dataset"
      ],
      "metadata": {
        "colab": {
          "base_uri": "https://localhost:8080/"
        },
        "id": "m7nIT4t_wV6J",
        "outputId": "ffbb9ba4-ca7e-4ef6-d2a8-b9e91268d2ea"
      },
      "execution_count": null,
      "outputs": [
        {
          "output_type": "execute_result",
          "data": {
            "text/plain": [
              "(<PrefetchDataset element_spec=((TensorSpec(shape=(None,), dtype=tf.string, name=None), TensorSpec(shape=(None,), dtype=tf.string, name=None)), TensorSpec(shape=(None, 5), dtype=tf.float64, name=None))>,\n",
              " <PrefetchDataset element_spec=((TensorSpec(shape=(None,), dtype=tf.string, name=None), TensorSpec(shape=(None,), dtype=tf.string, name=None)), TensorSpec(shape=(None, 5), dtype=tf.float64, name=None))>)"
            ]
          },
          "metadata": {},
          "execution_count": 96
        }
      ]
    },
    {
      "cell_type": "code",
      "source": [
        "model_4_history = model_4.fit(train_char_token_dataset,\n",
        "                              steps_per_epoch=int(0.1 * len(train_char_token_dataset)),\n",
        "                              epochs=10,\n",
        "                              validation_data=val_char_token_dataset,\n",
        "                              validation_steps=int(0.1 * len(val_char_token_dataset)))"
      ],
      "metadata": {
        "colab": {
          "base_uri": "https://localhost:8080/"
        },
        "id": "te3TuQ4QwasL",
        "outputId": "298f9e30-517b-4b9c-eee2-78ce01c17796"
      },
      "execution_count": null,
      "outputs": [
        {
          "output_type": "stream",
          "name": "stdout",
          "text": [
            "Epoch 1/10\n",
            "562/562 [==============================] - 23s 40ms/step - loss: 0.6787 - accuracy: 0.7430 - val_loss: 0.6442 - val_accuracy: 0.7580\n",
            "Epoch 2/10\n",
            "562/562 [==============================] - 19s 33ms/step - loss: 0.6475 - accuracy: 0.7504 - val_loss: 0.6223 - val_accuracy: 0.7673\n",
            "Epoch 3/10\n",
            "562/562 [==============================] - 19s 34ms/step - loss: 0.6449 - accuracy: 0.7501 - val_loss: 0.6125 - val_accuracy: 0.7696\n",
            "Epoch 4/10\n",
            "562/562 [==============================] - 19s 33ms/step - loss: 0.6464 - accuracy: 0.7557 - val_loss: 0.6072 - val_accuracy: 0.7706\n",
            "Epoch 5/10\n",
            "562/562 [==============================] - 19s 35ms/step - loss: 0.6585 - accuracy: 0.7507 - val_loss: 0.6054 - val_accuracy: 0.7713\n",
            "Epoch 6/10\n",
            "562/562 [==============================] - 19s 34ms/step - loss: 0.6582 - accuracy: 0.7474 - val_loss: 0.5956 - val_accuracy: 0.7826\n",
            "Epoch 7/10\n",
            "562/562 [==============================] - 19s 35ms/step - loss: 0.6319 - accuracy: 0.7592 - val_loss: 0.5985 - val_accuracy: 0.7779\n",
            "Epoch 8/10\n",
            "562/562 [==============================] - 19s 34ms/step - loss: 0.6263 - accuracy: 0.7631 - val_loss: 0.5873 - val_accuracy: 0.7783\n",
            "Epoch 9/10\n",
            "562/562 [==============================] - 19s 34ms/step - loss: 0.6253 - accuracy: 0.7574 - val_loss: 0.5892 - val_accuracy: 0.7783\n",
            "Epoch 10/10\n",
            "562/562 [==============================] - 19s 34ms/step - loss: 0.6220 - accuracy: 0.7642 - val_loss: 0.5881 - val_accuracy: 0.7799\n"
          ]
        }
      ]
    },
    {
      "cell_type": "code",
      "source": [
        "model_4.evaluate(val_char_token_dataset)"
      ],
      "metadata": {
        "colab": {
          "base_uri": "https://localhost:8080/"
        },
        "id": "ugzBLPQEwxlD",
        "outputId": "e5971401-ff73-472a-8418-bff2e8654bd2"
      },
      "execution_count": null,
      "outputs": [
        {
          "output_type": "stream",
          "name": "stdout",
          "text": [
            "945/945 [==============================] - 20s 22ms/step - loss: 0.5855 - accuracy: 0.7771\n"
          ]
        },
        {
          "output_type": "execute_result",
          "data": {
            "text/plain": [
              "[0.5855470895767212, 0.7770753502845764]"
            ]
          },
          "metadata": {},
          "execution_count": 99
        }
      ]
    },
    {
      "cell_type": "code",
      "source": [
        "model_4_pred_probs = model_4.predict(val_char_token_dataset)\n",
        "model_4_pred_probs"
      ],
      "metadata": {
        "colab": {
          "base_uri": "https://localhost:8080/"
        },
        "id": "e09fCx7gx4FX",
        "outputId": "de1833a8-0391-4f41-d93a-c7a02db46d89"
      },
      "execution_count": null,
      "outputs": [
        {
          "output_type": "execute_result",
          "data": {
            "text/plain": [
              "array([[5.12424350e-01, 2.95821905e-01, 1.40130299e-03, 1.86791122e-01,\n",
              "        3.56134214e-03],\n",
              "       [3.95313352e-01, 5.12508512e-01, 2.80806585e-03, 8.82644877e-02,\n",
              "        1.10550236e-03],\n",
              "       [5.73641419e-01, 2.77354615e-03, 1.21124042e-02, 4.10227001e-01,\n",
              "        1.24561659e-03],\n",
              "       ...,\n",
              "       [6.08190167e-05, 1.03454855e-04, 2.03501992e-03, 1.43581965e-05,\n",
              "        9.97786283e-01],\n",
              "       [1.75771397e-02, 1.19096681e-01, 5.30819334e-02, 4.58072731e-03,\n",
              "        8.05663526e-01],\n",
              "       [9.05806758e-03, 9.84305978e-01, 4.69435425e-03, 1.72536864e-04,\n",
              "        1.76910730e-03]], dtype=float32)"
            ]
          },
          "metadata": {},
          "execution_count": 100
        }
      ]
    },
    {
      "cell_type": "code",
      "source": [
        "model_4_preds = tf.argmax(model_4_pred_probs, axis=1)\n",
        "model_4_preds"
      ],
      "metadata": {
        "colab": {
          "base_uri": "https://localhost:8080/"
        },
        "id": "9yXO5jE_yEYA",
        "outputId": "907ac1ca-6e6c-464c-e177-189b17d35f69"
      },
      "execution_count": null,
      "outputs": [
        {
          "output_type": "execute_result",
          "data": {
            "text/plain": [
              "<tf.Tensor: shape=(30212,), dtype=int64, numpy=array([0, 1, 0, ..., 4, 4, 1])>"
            ]
          },
          "metadata": {},
          "execution_count": 101
        }
      ]
    },
    {
      "cell_type": "code",
      "source": [
        "model_4_results = calculate_results(y_true=val_labels_encoded,\n",
        "                                    y_pred=model_4_preds)\n",
        "model_4_results"
      ],
      "metadata": {
        "colab": {
          "base_uri": "https://localhost:8080/"
        },
        "id": "g73AyL17yLmq",
        "outputId": "d0ee7a4b-7f80-4683-cae2-6878c6b82684"
      },
      "execution_count": null,
      "outputs": [
        {
          "output_type": "execute_result",
          "data": {
            "text/plain": [
              "{'accuracy': 77.707533430425,\n",
              " 'f1': 0.7735720227344046,\n",
              " 'precision': 0.7745035948165857,\n",
              " 'recall': 0.77707533430425}"
            ]
          },
          "metadata": {},
          "execution_count": 106
        }
      ]
    },
    {
      "cell_type": "code",
      "source": [
        "val_labels_encoded"
      ],
      "metadata": {
        "colab": {
          "base_uri": "https://localhost:8080/"
        },
        "id": "AWq1Fls7y7uH",
        "outputId": "915d77db-495a-470b-f74c-2a74a0da9743"
      },
      "execution_count": null,
      "outputs": [
        {
          "output_type": "execute_result",
          "data": {
            "text/plain": [
              "array([0, 0, 3, ..., 4, 1, 1])"
            ]
          },
          "metadata": {},
          "execution_count": 105
        }
      ]
    },
    {
      "cell_type": "markdown",
      "source": [
        "### Trasfer learning with pretrained token embeddings + character embeddings + positional embeddings"
      ],
      "metadata": {
        "id": "BiV4wfxYzCHm"
      }
    },
    {
      "cell_type": "code",
      "source": [
        "train_df.head()"
      ],
      "metadata": {
        "colab": {
          "base_uri": "https://localhost:8080/",
          "height": 302
        },
        "id": "IMpytqpkAP6C",
        "outputId": "845e097c-56a9-4003-cfd5-28cf7ef0c202"
      },
      "execution_count": null,
      "outputs": [
        {
          "output_type": "execute_result",
          "data": {
            "text/plain": [
              "      target                                               text  line_number  \\\n",
              "0  OBJECTIVE  to investigate the efficacy of @ weeks of dail...            0   \n",
              "1    METHODS  a total of @ patients with primary knee oa wer...            1   \n",
              "2    METHODS  outcome measures included pain reduction and i...            2   \n",
              "3    METHODS  pain was assessed using the visual analog pain...            3   \n",
              "4    METHODS  secondary outcome measures included the wester...            4   \n",
              "\n",
              "   total_lines  \n",
              "0           11  \n",
              "1           11  \n",
              "2           11  \n",
              "3           11  \n",
              "4           11  "
            ],
            "text/html": [
              "\n",
              "  <div id=\"df-6a740d01-7c63-4b85-9e01-7680e6e3e451\">\n",
              "    <div class=\"colab-df-container\">\n",
              "      <div>\n",
              "<style scoped>\n",
              "    .dataframe tbody tr th:only-of-type {\n",
              "        vertical-align: middle;\n",
              "    }\n",
              "\n",
              "    .dataframe tbody tr th {\n",
              "        vertical-align: top;\n",
              "    }\n",
              "\n",
              "    .dataframe thead th {\n",
              "        text-align: right;\n",
              "    }\n",
              "</style>\n",
              "<table border=\"1\" class=\"dataframe\">\n",
              "  <thead>\n",
              "    <tr style=\"text-align: right;\">\n",
              "      <th></th>\n",
              "      <th>target</th>\n",
              "      <th>text</th>\n",
              "      <th>line_number</th>\n",
              "      <th>total_lines</th>\n",
              "    </tr>\n",
              "  </thead>\n",
              "  <tbody>\n",
              "    <tr>\n",
              "      <th>0</th>\n",
              "      <td>OBJECTIVE</td>\n",
              "      <td>to investigate the efficacy of @ weeks of dail...</td>\n",
              "      <td>0</td>\n",
              "      <td>11</td>\n",
              "    </tr>\n",
              "    <tr>\n",
              "      <th>1</th>\n",
              "      <td>METHODS</td>\n",
              "      <td>a total of @ patients with primary knee oa wer...</td>\n",
              "      <td>1</td>\n",
              "      <td>11</td>\n",
              "    </tr>\n",
              "    <tr>\n",
              "      <th>2</th>\n",
              "      <td>METHODS</td>\n",
              "      <td>outcome measures included pain reduction and i...</td>\n",
              "      <td>2</td>\n",
              "      <td>11</td>\n",
              "    </tr>\n",
              "    <tr>\n",
              "      <th>3</th>\n",
              "      <td>METHODS</td>\n",
              "      <td>pain was assessed using the visual analog pain...</td>\n",
              "      <td>3</td>\n",
              "      <td>11</td>\n",
              "    </tr>\n",
              "    <tr>\n",
              "      <th>4</th>\n",
              "      <td>METHODS</td>\n",
              "      <td>secondary outcome measures included the wester...</td>\n",
              "      <td>4</td>\n",
              "      <td>11</td>\n",
              "    </tr>\n",
              "  </tbody>\n",
              "</table>\n",
              "</div>\n",
              "      <button class=\"colab-df-convert\" onclick=\"convertToInteractive('df-6a740d01-7c63-4b85-9e01-7680e6e3e451')\"\n",
              "              title=\"Convert this dataframe to an interactive table.\"\n",
              "              style=\"display:none;\">\n",
              "        \n",
              "  <svg xmlns=\"http://www.w3.org/2000/svg\" height=\"24px\"viewBox=\"0 0 24 24\"\n",
              "       width=\"24px\">\n",
              "    <path d=\"M0 0h24v24H0V0z\" fill=\"none\"/>\n",
              "    <path d=\"M18.56 5.44l.94 2.06.94-2.06 2.06-.94-2.06-.94-.94-2.06-.94 2.06-2.06.94zm-11 1L8.5 8.5l.94-2.06 2.06-.94-2.06-.94L8.5 2.5l-.94 2.06-2.06.94zm10 10l.94 2.06.94-2.06 2.06-.94-2.06-.94-.94-2.06-.94 2.06-2.06.94z\"/><path d=\"M17.41 7.96l-1.37-1.37c-.4-.4-.92-.59-1.43-.59-.52 0-1.04.2-1.43.59L10.3 9.45l-7.72 7.72c-.78.78-.78 2.05 0 2.83L4 21.41c.39.39.9.59 1.41.59.51 0 1.02-.2 1.41-.59l7.78-7.78 2.81-2.81c.8-.78.8-2.07 0-2.86zM5.41 20L4 18.59l7.72-7.72 1.47 1.35L5.41 20z\"/>\n",
              "  </svg>\n",
              "      </button>\n",
              "      \n",
              "  <style>\n",
              "    .colab-df-container {\n",
              "      display:flex;\n",
              "      flex-wrap:wrap;\n",
              "      gap: 12px;\n",
              "    }\n",
              "\n",
              "    .colab-df-convert {\n",
              "      background-color: #E8F0FE;\n",
              "      border: none;\n",
              "      border-radius: 50%;\n",
              "      cursor: pointer;\n",
              "      display: none;\n",
              "      fill: #1967D2;\n",
              "      height: 32px;\n",
              "      padding: 0 0 0 0;\n",
              "      width: 32px;\n",
              "    }\n",
              "\n",
              "    .colab-df-convert:hover {\n",
              "      background-color: #E2EBFA;\n",
              "      box-shadow: 0px 1px 2px rgba(60, 64, 67, 0.3), 0px 1px 3px 1px rgba(60, 64, 67, 0.15);\n",
              "      fill: #174EA6;\n",
              "    }\n",
              "\n",
              "    [theme=dark] .colab-df-convert {\n",
              "      background-color: #3B4455;\n",
              "      fill: #D2E3FC;\n",
              "    }\n",
              "\n",
              "    [theme=dark] .colab-df-convert:hover {\n",
              "      background-color: #434B5C;\n",
              "      box-shadow: 0px 1px 3px 1px rgba(0, 0, 0, 0.15);\n",
              "      filter: drop-shadow(0px 1px 2px rgba(0, 0, 0, 0.3));\n",
              "      fill: #FFFFFF;\n",
              "    }\n",
              "  </style>\n",
              "\n",
              "      <script>\n",
              "        const buttonEl =\n",
              "          document.querySelector('#df-6a740d01-7c63-4b85-9e01-7680e6e3e451 button.colab-df-convert');\n",
              "        buttonEl.style.display =\n",
              "          google.colab.kernel.accessAllowed ? 'block' : 'none';\n",
              "\n",
              "        async function convertToInteractive(key) {\n",
              "          const element = document.querySelector('#df-6a740d01-7c63-4b85-9e01-7680e6e3e451');\n",
              "          const dataTable =\n",
              "            await google.colab.kernel.invokeFunction('convertToInteractive',\n",
              "                                                     [key], {});\n",
              "          if (!dataTable) return;\n",
              "\n",
              "          const docLinkHtml = 'Like what you see? Visit the ' +\n",
              "            '<a target=\"_blank\" href=https://colab.research.google.com/notebooks/data_table.ipynb>data table notebook</a>'\n",
              "            + ' to learn more about interactive tables.';\n",
              "          element.innerHTML = '';\n",
              "          dataTable['output_type'] = 'display_data';\n",
              "          await google.colab.output.renderOutput(dataTable, element);\n",
              "          const docLink = document.createElement('div');\n",
              "          docLink.innerHTML = docLinkHtml;\n",
              "          element.appendChild(docLink);\n",
              "        }\n",
              "      </script>\n",
              "    </div>\n",
              "  </div>\n",
              "  "
            ]
          },
          "metadata": {},
          "execution_count": 107
        }
      ]
    },
    {
      "cell_type": "code",
      "source": [
        "train_df[\"line_number\"].value_counts()"
      ],
      "metadata": {
        "colab": {
          "base_uri": "https://localhost:8080/"
        },
        "id": "cEwLG5cTAz99",
        "outputId": "03b0516a-59c0-43c9-86dc-522e44592433"
      },
      "execution_count": null,
      "outputs": [
        {
          "output_type": "execute_result",
          "data": {
            "text/plain": [
              "0     15000\n",
              "1     15000\n",
              "2     15000\n",
              "3     15000\n",
              "4     14992\n",
              "5     14949\n",
              "6     14758\n",
              "7     14279\n",
              "8     13346\n",
              "9     11981\n",
              "10    10041\n",
              "11     7892\n",
              "12     5853\n",
              "13     4152\n",
              "14     2835\n",
              "15     1861\n",
              "16     1188\n",
              "17      751\n",
              "18      462\n",
              "19      286\n",
              "20      162\n",
              "21      101\n",
              "22       66\n",
              "23       33\n",
              "24       22\n",
              "25       14\n",
              "26        7\n",
              "27        4\n",
              "28        3\n",
              "29        1\n",
              "30        1\n",
              "Name: line_number, dtype: int64"
            ]
          },
          "metadata": {},
          "execution_count": 108
        }
      ]
    },
    {
      "cell_type": "code",
      "source": [
        "train_line_numbers_one_hot = tf.one_hot(train_df['line_number'].to_numpy(), depth=15)\n",
        "val_line_numbers_one_hot = tf.one_hot(val_df[\"line_number\"].to_numpy(), depth=15)\n",
        "test_line_numbers_one_hot = tf.one_hot(test_df[\"line_number\"].to_numpy(), depth=15)\n"
      ],
      "metadata": {
        "id": "4__gpw4DBBFv"
      },
      "execution_count": null,
      "outputs": []
    },
    {
      "cell_type": "code",
      "source": [
        "train_line_numbers_one_hot.shape, train_line_numbers_one_hot[:20]"
      ],
      "metadata": {
        "colab": {
          "base_uri": "https://localhost:8080/"
        },
        "id": "Cb0IG8SCB1nA",
        "outputId": "1f117424-0779-4dd6-9271-147effca8ff5"
      },
      "execution_count": null,
      "outputs": [
        {
          "output_type": "execute_result",
          "data": {
            "text/plain": [
              "(TensorShape([180040, 15]), <tf.Tensor: shape=(20, 15), dtype=float32, numpy=\n",
              " array([[1., 0., 0., 0., 0., 0., 0., 0., 0., 0., 0., 0., 0., 0., 0.],\n",
              "        [0., 1., 0., 0., 0., 0., 0., 0., 0., 0., 0., 0., 0., 0., 0.],\n",
              "        [0., 0., 1., 0., 0., 0., 0., 0., 0., 0., 0., 0., 0., 0., 0.],\n",
              "        [0., 0., 0., 1., 0., 0., 0., 0., 0., 0., 0., 0., 0., 0., 0.],\n",
              "        [0., 0., 0., 0., 1., 0., 0., 0., 0., 0., 0., 0., 0., 0., 0.],\n",
              "        [0., 0., 0., 0., 0., 1., 0., 0., 0., 0., 0., 0., 0., 0., 0.],\n",
              "        [0., 0., 0., 0., 0., 0., 1., 0., 0., 0., 0., 0., 0., 0., 0.],\n",
              "        [0., 0., 0., 0., 0., 0., 0., 1., 0., 0., 0., 0., 0., 0., 0.],\n",
              "        [0., 0., 0., 0., 0., 0., 0., 0., 1., 0., 0., 0., 0., 0., 0.],\n",
              "        [0., 0., 0., 0., 0., 0., 0., 0., 0., 1., 0., 0., 0., 0., 0.],\n",
              "        [0., 0., 0., 0., 0., 0., 0., 0., 0., 0., 1., 0., 0., 0., 0.],\n",
              "        [0., 0., 0., 0., 0., 0., 0., 0., 0., 0., 0., 1., 0., 0., 0.],\n",
              "        [1., 0., 0., 0., 0., 0., 0., 0., 0., 0., 0., 0., 0., 0., 0.],\n",
              "        [0., 1., 0., 0., 0., 0., 0., 0., 0., 0., 0., 0., 0., 0., 0.],\n",
              "        [0., 0., 1., 0., 0., 0., 0., 0., 0., 0., 0., 0., 0., 0., 0.],\n",
              "        [0., 0., 0., 1., 0., 0., 0., 0., 0., 0., 0., 0., 0., 0., 0.],\n",
              "        [0., 0., 0., 0., 1., 0., 0., 0., 0., 0., 0., 0., 0., 0., 0.],\n",
              "        [0., 0., 0., 0., 0., 1., 0., 0., 0., 0., 0., 0., 0., 0., 0.],\n",
              "        [0., 0., 0., 0., 0., 0., 1., 0., 0., 0., 0., 0., 0., 0., 0.],\n",
              "        [0., 0., 0., 0., 0., 0., 0., 1., 0., 0., 0., 0., 0., 0., 0.]],\n",
              "       dtype=float32)>)"
            ]
          },
          "metadata": {},
          "execution_count": 110
        }
      ]
    },
    {
      "cell_type": "code",
      "source": [
        "train_df[\"total_lines\"].value_counts()\n"
      ],
      "metadata": {
        "colab": {
          "base_uri": "https://localhost:8080/"
        },
        "id": "exI2RC7nCiM1",
        "outputId": "d2699fca-e20b-4a15-d1c6-7d322a03ce1c"
      },
      "execution_count": null,
      "outputs": [
        {
          "output_type": "execute_result",
          "data": {
            "text/plain": [
              "11    24468\n",
              "10    23639\n",
              "12    22113\n",
              "9     19400\n",
              "13    18438\n",
              "14    14610\n",
              "8     12285\n",
              "15    10768\n",
              "7      7464\n",
              "16     7429\n",
              "17     5202\n",
              "6      3353\n",
              "18     3344\n",
              "19     2480\n",
              "20     1281\n",
              "5      1146\n",
              "21      770\n",
              "22      759\n",
              "23      264\n",
              "4       215\n",
              "24      200\n",
              "25      182\n",
              "26       81\n",
              "28       58\n",
              "3        32\n",
              "30       31\n",
              "27       28\n",
              "Name: total_lines, dtype: int64"
            ]
          },
          "metadata": {},
          "execution_count": 114
        }
      ]
    },
    {
      "cell_type": "code",
      "source": [
        "train_df.total_lines.plot.hist();"
      ],
      "metadata": {
        "colab": {
          "base_uri": "https://localhost:8080/",
          "height": 267
        },
        "id": "5vUga-LPDBbv",
        "outputId": "ff0ea1a9-869d-471a-a9c0-c0a3ed428d92"
      },
      "execution_count": null,
      "outputs": [
        {
          "output_type": "display_data",
          "data": {
            "text/plain": [
              "<Figure size 432x288 with 1 Axes>"
            ],
            "image/png": "[encoded data removed]"
          },
          "metadata": {
            "needs_background": "light"
          }
        }
      ]
    },
    {
      "cell_type": "code",
      "source": [
        "np.percentile(train_df.total_lines, 98)"
      ],
      "metadata": {
        "colab": {
          "base_uri": "https://localhost:8080/"
        },
        "id": "UlE00eS9DNov",
        "outputId": "bd42f84d-746f-42c0-e7d1-9e3505be4054"
      },
      "execution_count": null,
      "outputs": [
        {
          "output_type": "execute_result",
          "data": {
            "text/plain": [
              "20.0"
            ]
          },
          "metadata": {},
          "execution_count": 116
        }
      ]
    },
    {
      "cell_type": "code",
      "source": [
        "train_total_lines_one_hot = tf.one_hot(train_df[\"total_lines\"].to_numpy(), depth=20)\n",
        "val_total_lines_one_hot = tf.one_hot(val_df[\"total_lines\"].to_numpy(), depth=20)\n",
        "test_total_lines_one_hot = tf.one_hot(test_df[\"total_lines\"].to_numpy(), depth=20)"
      ],
      "metadata": {
        "id": "FihDv6P7DQIR"
      },
      "execution_count": null,
      "outputs": []
    },
    {
      "cell_type": "code",
      "source": [
        "train_total_lines_one_hot.shape, train_total_lines_one_hot[:10]"
      ],
      "metadata": {
        "colab": {
          "base_uri": "https://localhost:8080/"
        },
        "id": "IS6leOquDS5U",
        "outputId": "a98941ca-ee38-491d-cb33-ba72eca8c1c9"
      },
      "execution_count": null,
      "outputs": [
        {
          "output_type": "execute_result",
          "data": {
            "text/plain": [
              "(TensorShape([180040, 20]), <tf.Tensor: shape=(10, 20), dtype=float32, numpy=\n",
              " array([[0., 0., 0., 0., 0., 0., 0., 0., 0., 0., 0., 1., 0., 0., 0., 0.,\n",
              "         0., 0., 0., 0.],\n",
              "        [0., 0., 0., 0., 0., 0., 0., 0., 0., 0., 0., 1., 0., 0., 0., 0.,\n",
              "         0., 0., 0., 0.],\n",
              "        [0., 0., 0., 0., 0., 0., 0., 0., 0., 0., 0., 1., 0., 0., 0., 0.,\n",
              "         0., 0., 0., 0.],\n",
              "        [0., 0., 0., 0., 0., 0., 0., 0., 0., 0., 0., 1., 0., 0., 0., 0.,\n",
              "         0., 0., 0., 0.],\n",
              "        [0., 0., 0., 0., 0., 0., 0., 0., 0., 0., 0., 1., 0., 0., 0., 0.,\n",
              "         0., 0., 0., 0.],\n",
              "        [0., 0., 0., 0., 0., 0., 0., 0., 0., 0., 0., 1., 0., 0., 0., 0.,\n",
              "         0., 0., 0., 0.],\n",
              "        [0., 0., 0., 0., 0., 0., 0., 0., 0., 0., 0., 1., 0., 0., 0., 0.,\n",
              "         0., 0., 0., 0.],\n",
              "        [0., 0., 0., 0., 0., 0., 0., 0., 0., 0., 0., 1., 0., 0., 0., 0.,\n",
              "         0., 0., 0., 0.],\n",
              "        [0., 0., 0., 0., 0., 0., 0., 0., 0., 0., 0., 1., 0., 0., 0., 0.,\n",
              "         0., 0., 0., 0.],\n",
              "        [0., 0., 0., 0., 0., 0., 0., 0., 0., 0., 0., 1., 0., 0., 0., 0.,\n",
              "         0., 0., 0., 0.]], dtype=float32)>)"
            ]
          },
          "metadata": {},
          "execution_count": 120
        }
      ]
    },
    {
      "cell_type": "code",
      "source": [
        "token_inputs = layers.Input(shape = [], dtype = \"string\", name = \"token_inputs\")\n",
        "token_embeddings = tf_hub_embedding_layer(token_inputs)\n",
        "token_outputs = layers.Dense(128, activation = \"relu\")(token_embeddings)\n",
        "token_model = tf.keras.Model(inputs = token_inputs, outputs = token_outputs)\n",
        "\n",
        "char_inputs = layers.Input(shape=(1,), dtype=\"string\", name=\"char_inputs\")\n",
        "char_vectors = char_vectorizer(char_inputs)\n",
        "char_embeddings = char_embed(char_vectors)\n",
        "char_bi_lstm = layers.Bidirectional(layers.LSTM(32))(char_embeddings)\n",
        "char_model = tf.keras.Model(char_inputs, char_bi_lstm)\n",
        "\n",
        "line_number_inputs = layers.Input(shape = (15,), dtype = tf.int32, name=\"line_number_input\")\n",
        "x = layers.Dense(32, activation=\"relu\")(line_number_inputs)\n",
        "line_number_model = tf.keras.Model(line_number_inputs, x)\n",
        "\n",
        "total_lines_inputs = layers.Input(shape=(20,), dtype = tf.int32, name = \"total_lines_input\")\n",
        "y = layers.Dense(32, activation=\"relu\")(total_lines_inputs)\n",
        "total_line_model = tf.keras.Model(total_lines_inputs, y)\n",
        "\n",
        "combined_embeddings = layers.Concatenate(name = \"token_char_hybrid_embedding\")([token_model.output, char_model.output])\n",
        "\n",
        "z = layers.Dense(256, activation=\"relu\")(combined_embeddings)\n",
        "z = layers.Dropout(0.2)(z)\n",
        "z = layers.Concatenate(name = \"token_char_positional_embedding\")([line_number_model.output, total_line_model.output,z])\n",
        "\n",
        "output_layer = layers.Dense(5, activation=\"softmax\", name=\"output_layer\")(z)\n",
        "\n",
        "model_5 = tf.keras.Model(inputs = [line_number_model.input, total_line_model.input, token_model.input,\n",
        "                                   char_model.input], outputs = output_layer)\n",
        "\n"
      ],
      "metadata": {
        "id": "ngOplVshDU59"
      },
      "execution_count": null,
      "outputs": []
    },
    {
      "cell_type": "code",
      "source": [
        "model_5.summary()"
      ],
      "metadata": {
        "colab": {
          "base_uri": "https://localhost:8080/"
        },
        "id": "CjALRMMeM9Mv",
        "outputId": "12c8ac06-8467-418f-ac47-e6f8fa2a3043"
      },
      "execution_count": null,
      "outputs": [
        {
          "output_type": "stream",
          "name": "stdout",
          "text": [
            "Model: \"model_8\"\n",
            "__________________________________________________________________________________________________\n",
            " Layer (type)                   Output Shape         Param #     Connected to                     \n",
            "==================================================================================================\n",
            " char_inputs (InputLayer)       [(None, 1)]          0           []                               \n",
            "                                                                                                  \n",
            " token_inputs (InputLayer)      [(None,)]            0           []                               \n",
            "                                                                                                  \n",
            " char_vectorizer (TextVectoriza  (None, 290)         0           ['char_inputs[0][0]']            \n",
            " tion)                                                                                            \n",
            "                                                                                                  \n",
            " universal_sentence_encoder (Ke  (None, 512)         256797824   ['token_inputs[0][0]']           \n",
            " rasLayer)                                                                                        \n",
            "                                                                                                  \n",
            " char_embed (Embedding)         (None, 290, 25)      1750        ['char_vectorizer[2][0]']        \n",
            "                                                                                                  \n",
            " dense_7 (Dense)                (None, 128)          65664       ['universal_sentence_encoder[2][0\n",
            "                                                                 ]']                              \n",
            "                                                                                                  \n",
            " bidirectional_1 (Bidirectional  (None, 64)          14848       ['char_embed[2][0]']             \n",
            " )                                                                                                \n",
            "                                                                                                  \n",
            " token_char_hybrid_embedding (C  (None, 192)         0           ['dense_7[0][0]',                \n",
            " oncatenate)                                                      'bidirectional_1[0][0]']        \n",
            "                                                                                                  \n",
            " line_number_input (InputLayer)  [(None, 15)]        0           []                               \n",
            "                                                                                                  \n",
            " total_lines_input (InputLayer)  [(None, 20)]        0           []                               \n",
            "                                                                                                  \n",
            " dense_10 (Dense)               (None, 256)          49408       ['token_char_hybrid_embedding[0][\n",
            "                                                                 0]']                             \n",
            "                                                                                                  \n",
            " dense_8 (Dense)                (None, 32)           512         ['line_number_input[0][0]']      \n",
            "                                                                                                  \n",
            " dense_9 (Dense)                (None, 32)           672         ['total_lines_input[0][0]']      \n",
            "                                                                                                  \n",
            " dropout_2 (Dropout)            (None, 256)          0           ['dense_10[0][0]']               \n",
            "                                                                                                  \n",
            " token_char_positional_embeddin  (None, 320)         0           ['dense_8[0][0]',                \n",
            " g (Concatenate)                                                  'dense_9[0][0]',                \n",
            "                                                                  'dropout_2[0][0]']              \n",
            "                                                                                                  \n",
            " output_layer (Dense)           (None, 5)            1605        ['token_char_positional_embedding\n",
            "                                                                 [0][0]']                         \n",
            "                                                                                                  \n",
            "==================================================================================================\n",
            "Total params: 256,932,283\n",
            "Trainable params: 134,459\n",
            "Non-trainable params: 256,797,824\n",
            "__________________________________________________________________________________________________\n"
          ]
        }
      ]
    },
    {
      "cell_type": "code",
      "source": [
        "plot_model(model_5)"
      ],
      "metadata": {
        "colab": {
          "base_uri": "https://localhost:8080/",
          "height": 538
        },
        "id": "FekvHzDnM__5",
        "outputId": "dd11bf98-1c94-4327-b4ba-3963d63be00f"
      },
      "execution_count": null,
      "outputs": [
        {
          "output_type": "execute_result",
          "data": {
            "text/plain": [
              "<IPython.core.display.Image object>"
            ],
            "image/png": "[encoded data removed]"
          },
          "metadata": {},
          "execution_count": 123
        }
      ]
    },
    {
      "cell_type": "code",
      "source": [
        "for layer in model_5.layers:\n",
        "  print(layer, layer.trainable)"
      ],
      "metadata": {
        "colab": {
          "base_uri": "https://localhost:8080/"
        },
        "id": "3HwTsWRnNCpN",
        "outputId": "8d477c27-32da-40f7-fea4-9bc5ec66ee7e"
      },
      "execution_count": null,
      "outputs": [
        {
          "output_type": "stream",
          "name": "stdout",
          "text": [
            "<keras.engine.input_layer.InputLayer object at 0x7f2debb625d0> True\n",
            "<keras.engine.input_layer.InputLayer object at 0x7f2deb9e4390> True\n",
            "<keras.layers.preprocessing.text_vectorization.TextVectorization object at 0x7f2e0cfb2450> True\n",
            "<tensorflow_hub.keras_layer.KerasLayer object at 0x7f2edaa4c350> False\n",
            "<keras.layers.embeddings.Embedding object at 0x7f2e0cf73850> True\n",
            "<keras.layers.core.dense.Dense object at 0x7f2debbce450> True\n",
            "<keras.layers.wrappers.Bidirectional object at 0x7f2debcfc210> True\n",
            "<keras.layers.merge.Concatenate object at 0x7f2e0ac69e90> True\n",
            "<keras.engine.input_layer.InputLayer object at 0x7f2deb8be7d0> True\n",
            "<keras.engine.input_layer.InputLayer object at 0x7f2debc08150> True\n",
            "<keras.layers.core.dense.Dense object at 0x7f2deba466d0> True\n",
            "<keras.layers.core.dense.Dense object at 0x7f2debb07910> True\n",
            "<keras.layers.core.dense.Dense object at 0x7f2e0aa1f490> True\n",
            "<keras.layers.core.dropout.Dropout object at 0x7f2deba46550> True\n",
            "<keras.layers.merge.Concatenate object at 0x7f2deb9af890> True\n",
            "<keras.layers.core.dense.Dense object at 0x7f2e0ac697d0> True\n"
          ]
        }
      ]
    },
    {
      "cell_type": "code",
      "source": [
        "model_5.compile(loss=tf.keras.losses.CategoricalCrossentropy(label_smoothing=0.2), \n",
        "                optimizer=tf.keras.optimizers.Adam(),\n",
        "                metrics=[\"accuracy\"])"
      ],
      "metadata": {
        "id": "sCMcWQwTNZib"
      },
      "execution_count": null,
      "outputs": []
    },
    {
      "cell_type": "code",
      "source": [
        "train_pos_char_token_data = tf.data.Dataset.from_tensor_slices((train_line_numbers_one_hot, \n",
        "                                                                train_total_lines_one_hot, \n",
        "                                                                train_sentences, \n",
        "                                                                train_chars))\n",
        "train_pos_char_token_labels = tf.data.Dataset.from_tensor_slices(train_labels_one_hot)\n",
        "train_pos_char_token_dataset = tf.data.Dataset.zip((train_pos_char_token_data, train_pos_char_token_labels))\n",
        "train_pos_char_token_dataset = train_pos_char_token_dataset.batch(32).prefetch(tf.data.AUTOTUNE)"
      ],
      "metadata": {
        "id": "8Bhpv3w3Nyxh"
      },
      "execution_count": null,
      "outputs": []
    },
    {
      "cell_type": "code",
      "source": [
        "val_pos_char_token_data = tf.data.Dataset.from_tensor_slices((val_line_numbers_one_hot,\n",
        "                                                              val_total_lines_one_hot,\n",
        "                                                              val_sentences,\n",
        "                                                              val_chars))\n",
        "val_pos_char_token_labels = tf.data.Dataset.from_tensor_slices(val_labels_one_hot)\n",
        "val_pos_char_token_dataset = tf.data.Dataset.zip((val_pos_char_token_data, val_pos_char_token_labels))\n",
        "val_pos_char_token_dataset = val_pos_char_token_dataset.batch(32).prefetch(tf.data.AUTOTUNE)"
      ],
      "metadata": {
        "id": "ZYAEvtTYOwpF"
      },
      "execution_count": null,
      "outputs": []
    },
    {
      "cell_type": "code",
      "source": [
        "train_pos_char_token_dataset, val_pos_char_token_dataset"
      ],
      "metadata": {
        "colab": {
          "base_uri": "https://localhost:8080/"
        },
        "id": "S8pF1L-iPKuS",
        "outputId": "53d5af14-2240-4626-a006-0f1908232649"
      },
      "execution_count": null,
      "outputs": [
        {
          "output_type": "execute_result",
          "data": {
            "text/plain": [
              "(<PrefetchDataset element_spec=((TensorSpec(shape=(None, 15), dtype=tf.float32, name=None), TensorSpec(shape=(None, 20), dtype=tf.float32, name=None), TensorSpec(shape=(None,), dtype=tf.string, name=None), TensorSpec(shape=(None,), dtype=tf.string, name=None)), TensorSpec(shape=(None, 5), dtype=tf.float64, name=None))>,\n",
              " <PrefetchDataset element_spec=((TensorSpec(shape=(None, 15), dtype=tf.float32, name=None), TensorSpec(shape=(None, 20), dtype=tf.float32, name=None), TensorSpec(shape=(None,), dtype=tf.string, name=None), TensorSpec(shape=(None,), dtype=tf.string, name=None)), TensorSpec(shape=(None, 5), dtype=tf.float64, name=None))>)"
            ]
          },
          "metadata": {},
          "execution_count": 129
        }
      ]
    },
    {
      "cell_type": "code",
      "source": [
        "history_model_5 = model_5.fit(train_pos_char_token_dataset,\n",
        "                              steps_per_epoch=int(0.1 * len(train_pos_char_token_dataset)),\n",
        "                              epochs=10,\n",
        "                              validation_data=val_pos_char_token_dataset,\n",
        "                              validation_steps=int(0.1 * len(val_pos_char_token_dataset)))"
      ],
      "metadata": {
        "colab": {
          "base_uri": "https://localhost:8080/"
        },
        "id": "rSBhAsEkPO0c",
        "outputId": "29d34365-aa1b-4168-b08c-d98e4baa9972"
      },
      "execution_count": null,
      "outputs": [
        {
          "output_type": "stream",
          "name": "stdout",
          "text": [
            "Epoch 1/10\n",
            "562/562 [==============================] - 23s 35ms/step - loss: 1.0061 - accuracy: 0.7826 - val_loss: 0.9691 - val_accuracy: 0.8142\n",
            "Epoch 2/10\n",
            "562/562 [==============================] - 18s 33ms/step - loss: 0.9550 - accuracy: 0.8226 - val_loss: 0.9450 - val_accuracy: 0.8308\n",
            "Epoch 3/10\n",
            "562/562 [==============================] - 18s 33ms/step - loss: 0.9404 - accuracy: 0.8276 - val_loss: 0.9333 - val_accuracy: 0.8321\n",
            "Epoch 4/10\n",
            "562/562 [==============================] - 18s 33ms/step - loss: 0.9310 - accuracy: 0.8385 - val_loss: 0.9248 - val_accuracy: 0.8391\n",
            "Epoch 5/10\n",
            "562/562 [==============================] - 18s 33ms/step - loss: 0.9294 - accuracy: 0.8372 - val_loss: 0.9202 - val_accuracy: 0.8414\n",
            "Epoch 6/10\n",
            "562/562 [==============================] - 19s 33ms/step - loss: 0.9320 - accuracy: 0.8366 - val_loss: 0.9162 - val_accuracy: 0.8457\n",
            "Epoch 7/10\n",
            "562/562 [==============================] - 19s 33ms/step - loss: 0.9204 - accuracy: 0.8419 - val_loss: 0.9208 - val_accuracy: 0.8381\n",
            "Epoch 8/10\n",
            "562/562 [==============================] - 18s 33ms/step - loss: 0.9156 - accuracy: 0.8460 - val_loss: 0.9045 - val_accuracy: 0.8507\n",
            "Epoch 9/10\n",
            "562/562 [==============================] - 18s 33ms/step - loss: 0.9166 - accuracy: 0.8469 - val_loss: 0.9171 - val_accuracy: 0.8434\n",
            "Epoch 10/10\n",
            "562/562 [==============================] - 18s 33ms/step - loss: 0.9136 - accuracy: 0.8485 - val_loss: 0.9069 - val_accuracy: 0.8461\n"
          ]
        }
      ]
    },
    {
      "cell_type": "code",
      "source": [
        "history_full_model_5 = model_5.fit(train_pos_char_token_dataset,\n",
        "                              steps_per_epoch=int( len(train_pos_char_token_dataset)),\n",
        "                              epochs=10,\n",
        "                              validation_data=val_pos_char_token_dataset,\n",
        "                              validation_steps=int( len(val_pos_char_token_dataset)))"
      ],
      "metadata": {
        "colab": {
          "base_uri": "https://localhost:8080/"
        },
        "id": "vGdHvZSNQorF",
        "outputId": "6bf112bc-2b03-4a2c-b929-7d5653c4ad4a"
      },
      "execution_count": null,
      "outputs": [
        {
          "output_type": "stream",
          "name": "stdout",
          "text": [
            "Epoch 1/10\n",
            "5627/5627 [==============================] - 186s 33ms/step - loss: 0.9010 - accuracy: 0.8571 - val_loss: 0.8970 - val_accuracy: 0.8547\n",
            "Epoch 2/10\n",
            "5627/5627 [==============================] - 187s 33ms/step - loss: 0.8879 - accuracy: 0.8664 - val_loss: 0.8941 - val_accuracy: 0.8572\n",
            "Epoch 3/10\n",
            "5627/5627 [==============================] - 186s 33ms/step - loss: 0.8782 - accuracy: 0.8738 - val_loss: 0.8956 - val_accuracy: 0.8557\n",
            "Epoch 4/10\n",
            "5627/5627 [==============================] - 187s 33ms/step - loss: 0.8706 - accuracy: 0.8793 - val_loss: 0.8952 - val_accuracy: 0.8565\n",
            "Epoch 5/10\n",
            "5627/5627 [==============================] - 188s 33ms/step - loss: 0.8640 - accuracy: 0.8848 - val_loss: 0.8964 - val_accuracy: 0.8554\n",
            "Epoch 6/10\n",
            "5627/5627 [==============================] - 189s 34ms/step - loss: 0.8581 - accuracy: 0.8885 - val_loss: 0.8973 - val_accuracy: 0.8543\n",
            "Epoch 7/10\n",
            "5627/5627 [==============================] - 190s 34ms/step - loss: 0.8531 - accuracy: 0.8929 - val_loss: 0.8978 - val_accuracy: 0.8557\n",
            "Epoch 8/10\n",
            "5627/5627 [==============================] - 191s 34ms/step - loss: 0.8487 - accuracy: 0.8965 - val_loss: 0.8961 - val_accuracy: 0.8565\n",
            "Epoch 9/10\n",
            "5627/5627 [==============================] - 191s 34ms/step - loss: 0.8444 - accuracy: 0.9000 - val_loss: 0.9028 - val_accuracy: 0.8528\n",
            "Epoch 10/10\n",
            "5627/5627 [==============================] - 191s 34ms/step - loss: 0.8402 - accuracy: 0.9037 - val_loss: 0.9029 - val_accuracy: 0.8538\n"
          ]
        }
      ]
    },
    {
      "cell_type": "code",
      "source": [
        "model_5.save(\"pos_char_token_model\")"
      ],
      "metadata": {
        "colab": {
          "base_uri": "https://localhost:8080/"
        },
        "id": "2w1k3orMTdWs",
        "outputId": "e2bd419f-722c-451d-8f3f-cc213c6dd6cd"
      },
      "execution_count": null,
      "outputs": [
        {
          "output_type": "stream",
          "name": "stderr",
          "text": [
            "WARNING:absl:Found untraced functions such as lstm_cell_4_layer_call_fn, lstm_cell_4_layer_call_and_return_conditional_losses, lstm_cell_5_layer_call_fn, lstm_cell_5_layer_call_and_return_conditional_losses while saving (showing 4 of 4). These functions will not be directly callable after loading.\n"
          ]
        },
        {
          "output_type": "stream",
          "name": "stdout",
          "text": [
            "INFO:tensorflow:Assets written to: pos_char_token_model/assets\n"
          ]
        },
        {
          "output_type": "stream",
          "name": "stderr",
          "text": [
            "INFO:tensorflow:Assets written to: pos_char_token_model/assets\n",
            "WARNING:absl:<keras.layers.recurrent.LSTMCell object at 0x7f2deba08f90> has the same name 'LSTMCell' as a built-in Keras object. Consider renaming <class 'keras.layers.recurrent.LSTMCell'> to avoid naming conflicts when loading with `tf.keras.models.load_model`. If renaming is not possible, pass the object in the `custom_objects` parameter of the load function.\n",
            "WARNING:absl:<keras.layers.recurrent.LSTMCell object at 0x7f2deb8c5710> has the same name 'LSTMCell' as a built-in Keras object. Consider renaming <class 'keras.layers.recurrent.LSTMCell'> to avoid naming conflicts when loading with `tf.keras.models.load_model`. If renaming is not possible, pass the object in the `custom_objects` parameter of the load function.\n"
          ]
        }
      ]
    },
    {
      "cell_type": "code",
      "source": [
        "model_5.save(\"pos_char_token_model.pkl\")"
      ],
      "metadata": {
        "colab": {
          "base_uri": "https://localhost:8080/"
        },
        "id": "K0_ZYsGbfCjt",
        "outputId": "d1ca92ae-4403-4499-f108-f262b497f069"
      },
      "execution_count": null,
      "outputs": [
        {
          "output_type": "stream",
          "name": "stderr",
          "text": [
            "WARNING:absl:Found untraced functions such as lstm_cell_4_layer_call_fn, lstm_cell_4_layer_call_and_return_conditional_losses, lstm_cell_5_layer_call_fn, lstm_cell_5_layer_call_and_return_conditional_losses while saving (showing 4 of 4). These functions will not be directly callable after loading.\n"
          ]
        },
        {
          "output_type": "stream",
          "name": "stdout",
          "text": [
            "INFO:tensorflow:Assets written to: pos_char_token_model.pkl/assets\n"
          ]
        },
        {
          "output_type": "stream",
          "name": "stderr",
          "text": [
            "INFO:tensorflow:Assets written to: pos_char_token_model.pkl/assets\n",
            "WARNING:absl:<keras.layers.recurrent.LSTMCell object at 0x7f2deba08f90> has the same name 'LSTMCell' as a built-in Keras object. Consider renaming <class 'keras.layers.recurrent.LSTMCell'> to avoid naming conflicts when loading with `tf.keras.models.load_model`. If renaming is not possible, pass the object in the `custom_objects` parameter of the load function.\n",
            "WARNING:absl:<keras.layers.recurrent.LSTMCell object at 0x7f2deb8c5710> has the same name 'LSTMCell' as a built-in Keras object. Consider renaming <class 'keras.layers.recurrent.LSTMCell'> to avoid naming conflicts when loading with `tf.keras.models.load_model`. If renaming is not possible, pass the object in the `custom_objects` parameter of the load function.\n"
          ]
        }
      ]
    },
    {
      "cell_type": "code",
      "source": [
        "!cp pos_char_token_model -r /content/drive/MyDrive/Sravanth/"
      ],
      "metadata": {
        "id": "J_dWQUxefXor"
      },
      "execution_count": null,
      "outputs": []
    },
    {
      "cell_type": "code",
      "source": [
        "from google.colab import drive\n",
        "drive.mount('/content/drive')"
      ],
      "metadata": {
        "colab": {
          "base_uri": "https://localhost:8080/"
        },
        "id": "sEwmmpAEtB1y",
        "outputId": "bac250d2-f0ce-41c1-bb54-a3f3bec20833"
      },
      "execution_count": null,
      "outputs": [
        {
          "output_type": "stream",
          "name": "stdout",
          "text": [
            "Mounted at /content/drive\n"
          ]
        }
      ]
    },
    {
      "cell_type": "code",
      "source": [
        "import tensorflow_hub as hub\n",
        "import tensorflow as tf\n",
        "from tensorflow.keras.layers import TextVectorization\n",
        "\n",
        "model_path = \"pos_char_token_model\"\n",
        "\n",
        "# Load downloaded model from Google Storage\n",
        "loaded_model = tf.keras.models.load_model(model_path)#"
      ],
      "metadata": {
        "id": "LmIF0Jxkts6a"
      },
      "execution_count": null,
      "outputs": []
    },
    {
      "cell_type": "code",
      "source": [
        "loaded_pred_probs = loaded_model.predict(val_pos_char_token_dataset, verbose=1)\n",
        "loaded_preds = tf.argmax(loaded_pred_probs, axis=1)\n",
        "loaded_preds[:10]"
      ],
      "metadata": {
        "colab": {
          "base_uri": "https://localhost:8080/"
        },
        "id": "PAyDuFATuRTL",
        "outputId": "ff540322-607a-4c1c-8289-511e7ca09fe4"
      },
      "execution_count": null,
      "outputs": [
        {
          "output_type": "stream",
          "name": "stdout",
          "text": [
            "945/945 [==============================] - 35s 35ms/step\n"
          ]
        },
        {
          "output_type": "execute_result",
          "data": {
            "text/plain": [
              "<tf.Tensor: shape=(10,), dtype=int64, numpy=array([0, 0, 3, 2, 2, 4, 4, 4, 4, 1])>"
            ]
          },
          "metadata": {},
          "execution_count": 144
        }
      ]
    },
    {
      "cell_type": "code",
      "source": [
        "loaded_model_results = calculate_results(val_labels_encoded,\n",
        "                                         loaded_preds)\n",
        "loaded_model_results"
      ],
      "metadata": {
        "colab": {
          "base_uri": "https://localhost:8080/"
        },
        "id": "NOMOjL2euXmO",
        "outputId": "60e80ab6-9a27-4c53-9f11-625e284d46f4"
      },
      "execution_count": null,
      "outputs": [
        {
          "output_type": "execute_result",
          "data": {
            "text/plain": [
              "{'accuracy': 85.37667152124983,\n",
              " 'f1': 0.8512136321062118,\n",
              " 'precision': 0.8546920735990701,\n",
              " 'recall': 0.8537667152124984}"
            ]
          },
          "metadata": {},
          "execution_count": 145
        }
      ]
    },
    {
      "cell_type": "code",
      "source": [
        "loaded_model.summary()"
      ],
      "metadata": {
        "colab": {
          "base_uri": "https://localhost:8080/"
        },
        "id": "41LL2VQWulXd",
        "outputId": "f85e5cd2-d878-4fbf-d586-f0926245d132"
      },
      "execution_count": null,
      "outputs": [
        {
          "output_type": "stream",
          "name": "stdout",
          "text": [
            "Model: \"model_8\"\n",
            "__________________________________________________________________________________________________\n",
            " Layer (type)                   Output Shape         Param #     Connected to                     \n",
            "==================================================================================================\n",
            " char_inputs (InputLayer)       [(None, 1)]          0           []                               \n",
            "                                                                                                  \n",
            " token_inputs (InputLayer)      [(None,)]            0           []                               \n",
            "                                                                                                  \n",
            " char_vectorizer (TextVectoriza  (None, 290)         0           ['char_inputs[0][0]']            \n",
            " tion)                                                                                            \n",
            "                                                                                                  \n",
            " universal_sentence_encoder (Ke  (None, 512)         256797824   ['token_inputs[0][0]']           \n",
            " rasLayer)                                                                                        \n",
            "                                                                                                  \n",
            " char_embed (Embedding)         (None, 290, 25)      1750        ['char_vectorizer[0][0]']        \n",
            "                                                                                                  \n",
            " dense_7 (Dense)                (None, 128)          65664       ['universal_sentence_encoder[0][0\n",
            "                                                                 ]']                              \n",
            "                                                                                                  \n",
            " bidirectional_1 (Bidirectional  (None, 64)          14848       ['char_embed[0][0]']             \n",
            " )                                                                                                \n",
            "                                                                                                  \n",
            " token_char_hybrid_embedding (C  (None, 192)         0           ['dense_7[0][0]',                \n",
            " oncatenate)                                                      'bidirectional_1[0][0]']        \n",
            "                                                                                                  \n",
            " line_number_input (InputLayer)  [(None, 15)]        0           []                               \n",
            "                                                                                                  \n",
            " total_lines_input (InputLayer)  [(None, 20)]        0           []                               \n",
            "                                                                                                  \n",
            " dense_10 (Dense)               (None, 256)          49408       ['token_char_hybrid_embedding[0][\n",
            "                                                                 0]']                             \n",
            "                                                                                                  \n",
            " dense_8 (Dense)                (None, 32)           512         ['line_number_input[0][0]']      \n",
            "                                                                                                  \n",
            " dense_9 (Dense)                (None, 32)           672         ['total_lines_input[0][0]']      \n",
            "                                                                                                  \n",
            " dropout_2 (Dropout)            (None, 256)          0           ['dense_10[0][0]']               \n",
            "                                                                                                  \n",
            " token_char_positional_embeddin  (None, 320)         0           ['dense_8[0][0]',                \n",
            " g (Concatenate)                                                  'dense_9[0][0]',                \n",
            "                                                                  'dropout_2[0][0]']              \n",
            "                                                                                                  \n",
            " output_layer (Dense)           (None, 5)            1605        ['token_char_positional_embedding\n",
            "                                                                 [0][0]']                         \n",
            "                                                                                                  \n",
            "==================================================================================================\n",
            "Total params: 256,932,283\n",
            "Trainable params: 134,459\n",
            "Non-trainable params: 256,797,824\n",
            "__________________________________________________________________________________________________\n"
          ]
        }
      ]
    },
    {
      "cell_type": "code",
      "source": [
        "test_pos_char_token_data = tf.data.Dataset.from_tensor_slices((test_line_numbers_one_hot,\n",
        "                                                               test_total_lines_one_hot,\n",
        "                                                               test_sentences,\n",
        "                                                               test_chars))\n",
        "test_pos_char_token_labels = tf.data.Dataset.from_tensor_slices(test_labels_one_hot)\n",
        "test_pos_char_token_dataset = tf.data.Dataset.zip((test_pos_char_token_data, test_pos_char_token_labels))\n",
        "test_pos_char_token_dataset = test_pos_char_token_dataset.batch(32).prefetch(tf.data.AUTOTUNE)\n",
        "\n",
        "# Check shapes\n",
        "test_pos_char_token_dataset"
      ],
      "metadata": {
        "colab": {
          "base_uri": "https://localhost:8080/"
        },
        "id": "067Cs8mJun2v",
        "outputId": "6f492c22-a54e-4db2-ac0a-dd1b74c32c75"
      },
      "execution_count": null,
      "outputs": [
        {
          "output_type": "execute_result",
          "data": {
            "text/plain": [
              "<PrefetchDataset element_spec=((TensorSpec(shape=(None, 15), dtype=tf.float32, name=None), TensorSpec(shape=(None, 20), dtype=tf.float32, name=None), TensorSpec(shape=(None,), dtype=tf.string, name=None), TensorSpec(shape=(None,), dtype=tf.string, name=None)), TensorSpec(shape=(None, 5), dtype=tf.float64, name=None))>"
            ]
          },
          "metadata": {},
          "execution_count": 147
        }
      ]
    },
    {
      "cell_type": "code",
      "source": [
        "test_pred_probs = loaded_model.predict(test_pos_char_token_dataset,\n",
        "                                       verbose=1)\n",
        "test_preds = tf.argmax(test_pred_probs, axis=1)\n",
        "test_preds[:10]"
      ],
      "metadata": {
        "id": "NTdV0yOtuv49",
        "outputId": "1da138ba-2648-4bf1-c1d3-c8a8df03b728",
        "colab": {
          "base_uri": "https://localhost:8080/"
        }
      },
      "execution_count": null,
      "outputs": [
        {
          "output_type": "stream",
          "name": "stdout",
          "text": [
            "942/942 [==============================] - 21s 22ms/step\n"
          ]
        },
        {
          "output_type": "execute_result",
          "data": {
            "text/plain": [
              "<tf.Tensor: shape=(10,), dtype=int64, numpy=array([3, 2, 2, 2, 4, 4, 4, 1, 1, 0])>"
            ]
          },
          "metadata": {},
          "execution_count": 148
        }
      ]
    },
    {
      "cell_type": "code",
      "source": [
        "loaded_model_test_results = calculate_results(y_true=test_labels_encoded,\n",
        "                                              y_pred=test_preds)\n",
        "loaded_model_test_results"
      ],
      "metadata": {
        "id": "YQAZqNJuuxYz",
        "outputId": "47c09547-0017-4390-8980-d3e6a9d84837",
        "colab": {
          "base_uri": "https://localhost:8080/"
        }
      },
      "execution_count": null,
      "outputs": [
        {
          "output_type": "execute_result",
          "data": {
            "text/plain": [
              "{'accuracy': 84.9145511863282,\n",
              " 'f1': 0.8465995590060523,\n",
              " 'precision': 0.8492134832630014,\n",
              " 'recall': 0.8491455118632819}"
            ]
          },
          "metadata": {},
          "execution_count": 149
        }
      ]
    },
    {
      "cell_type": "markdown",
      "source": [
        "# Transfer Learning with bert will be on new notebook.\n"
      ],
      "metadata": {
        "id": "y_Q-8pq1EE2v"
      }
    },
    {
      "cell_type": "code",
      "source": [
        ""
      ],
      "metadata": {
        "id": "KbKnoyoyuzxR"
      },
      "execution_count": 160,
      "outputs": []
    },
    {
      "cell_type": "code",
      "source": [
        ""
      ],
      "metadata": {
        "id": "tz2TQaE9BmKt"
      },
      "execution_count": 160,
      "outputs": []
    },
    {
      "cell_type": "code",
      "source": [
        ""
      ],
      "metadata": {
        "id": "nroVwPawBuMo"
      },
      "execution_count": 160,
      "outputs": []
    },
    {
      "cell_type": "code",
      "source": [
        ""
      ],
      "metadata": {
        "id": "cg9_Bnf0EMM0"
      },
      "execution_count": null,
      "outputs": []
    }
  ]
}